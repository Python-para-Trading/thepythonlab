{
 "cells": [
  {
   "cell_type": "markdown",
   "metadata": {
    "slideshow": {
     "slide_type": "-"
    }
   },
   "source": [
    "## Pandas nos hace la vida un poco mas facil."
   ]
  },
  {
   "cell_type": "markdown",
   "metadata": {},
   "source": [
    "Muchos estamos familiarizados con Excel y con sus hojas de calculos pues son ampliamente utilizadas para almacenar y manipular datos, especialmente numericos, y hacer cálculos.\n",
    "\n",
    "En Python tenemos varias librerias para manipular todo tipo de datos, pero una es especialmente eficiente para las series temporales, **Pandas**. \n",
    "\n",
    "Pandas tiene dos objetos básicos las series, que son vectores indexados y los dataframes, que son matrices n-dimensionales indexadas.  Podemos pensar en un dataframe como una hoja de calculo de Excel supervitaminada."
   ]
  },
  {
   "cell_type": "markdown",
   "metadata": {},
   "source": [
    "Una **serie temporal** es una secuencia de datos tomados en determinados momentos ordenados cronológicamente. Por ejemplo la cotización de cierre de una acción, tenemos una sucesión de valores medidos al final de la sesión de cada día. En análisis financiero practicamente tratamos con series temporales casí todo el tiempo, y Pandas nos hace la vida mucho mas facil.\n",
    "\n",
    "De hecho Pandas fue desarrollada incialmente por **Wes McKinney** cuando trabajaba en un hedge found, AQR Capital Management, y posteriormente liberada como open source."
   ]
  },
  {
   "cell_type": "markdown",
   "metadata": {},
   "source": [
    "Esta librería tiene un gran número de funciones para realizar cálculos y manipulaciones de series y dataframes, y se ha originado un ecosistema al ser usada como base por otras librerias de terceros, que hacen uso de estos objetos y sus funciones."
   ]
  },
  {
   "cell_type": "markdown",
   "metadata": {},
   "source": [
    "Si has instalado Anaconda para usar Python, el módulo de Pandas ya viene preinstalado. Si no es así puedes instalarlo usando *conda*, basta con ejecutar en el terminal de comandos:\n",
    "\n",
    "`conda install pandas`\n",
    "\n",
    "o bien usando *pip*:\n",
    "\n",
    "`pip install pandas`"
   ]
  },
  {
   "cell_type": "markdown",
   "metadata": {},
   "source": [
    "---"
   ]
  },
  {
   "cell_type": "markdown",
   "metadata": {},
   "source": [
    "## Dataframes"
   ]
  },
  {
   "cell_type": "markdown",
   "metadata": {},
   "source": [
    "Un **DataFrame** de Pandas es una matriz ordenada que puede contener cualquier tipo de datos. Se ordena en columnas, que deben contener siempre un mismo tipo de dato, y en filas que generan un indice."
   ]
  },
  {
   "cell_type": "markdown",
   "metadata": {},
   "source": [
    "Para practicar con los dataframes vamos a usar series temporales de cotizaciones diarias de acciones. Para lo cual nos descargaremos los datos históricos."
   ]
  },
  {
   "cell_type": "markdown",
   "metadata": {},
   "source": [
    "**Pandas Datareader** es un módulo asociado a Pandas que permite descargar datos desde distintas fuentes.\n",
    "\n",
    "Sin embargo, debido a que Yahoo descontinuó su API para datos financieros, para poder descarga desde Yahoo Finance correctamente, utilizaremos el módulo **Fix Yahoo Finance**. Si no lo tienes instalado puedes instalarlo con :\n",
    "\n",
    "`pip install fix-yahoo-finance`"
   ]
  },
  {
   "cell_type": "markdown",
   "metadata": {},
   "source": [
    "Vamos a comenzar importando esos dos módulos. Importamos **Pandas** y para simplificar le asignamos el nombre **pd**, igual hacemos con **Fix Yahoo Finance**."
   ]
  },
  {
   "cell_type": "code",
   "execution_count": 1,
   "metadata": {
    "ExecuteTime": {
     "end_time": "2019-04-28T18:05:59.418036Z",
     "start_time": "2019-04-28T18:05:59.408655Z"
    }
   },
   "outputs": [],
   "source": [
    "import pandas as pd\n",
    "import fix_yahoo_finance as yf"
   ]
  },
  {
   "cell_type": "markdown",
   "metadata": {},
   "source": [
    "Descargaremos el histórico diario de Santander y BBVA desde principios de 2008 hasta final de 2018, once años.\n",
    "Para ello pasaremos como parámetros los tickers de los valores y las fechas de inicio y fin. Los tickers para otros valores se pueden localizar en la página de Yahoo Finance.\n",
    "\n",
    "En un futuro artículo hablaremos sobre las fuentes de datos financieros y sus API, pero de de momento nos bastará con saber como bajar los datos que necesitamos para estudiar los dataframe de Pandas."
   ]
  },
  {
   "cell_type": "code",
   "execution_count": 3,
   "metadata": {
    "ExecuteTime": {
     "end_time": "2019-04-28T18:06:47.023085Z",
     "start_time": "2019-04-28T18:06:47.020544Z"
    }
   },
   "outputs": [],
   "source": [
    "start = '2008-01-01'\n",
    "end = '2018-12-31'\n",
    "tickers=['SAN.MC', 'BBVA.MC']"
   ]
  },
  {
   "cell_type": "code",
   "execution_count": 5,
   "metadata": {
    "ExecuteTime": {
     "end_time": "2019-04-28T18:07:05.030652Z",
     "start_time": "2019-04-28T18:07:03.772872Z"
    }
   },
   "outputs": [
    {
     "name": "stdout",
     "output_type": "stream",
     "text": [
      "[*********************100%***********************]  1 of 1 downloaded\n"
     ]
    }
   ],
   "source": [
    "san = yf.download(tickers[0], start=start, end=end)"
   ]
  },
  {
   "cell_type": "code",
   "execution_count": 7,
   "metadata": {
    "ExecuteTime": {
     "end_time": "2019-04-28T18:07:50.868022Z",
     "start_time": "2019-04-28T18:07:50.538412Z"
    }
   },
   "outputs": [
    {
     "name": "stdout",
     "output_type": "stream",
     "text": [
      "[*********************100%***********************]  1 of 1 downloaded\n"
     ]
    }
   ],
   "source": [
    "bbva = yf.download(tickers[1], start=start, end=end)"
   ]
  },
  {
   "cell_type": "markdown",
   "metadata": {},
   "source": [
    "Lo que recibimos en la variable __san__ es un **DataFrame** de Pandas, una matriz de dos dimensiones, como dijimos algo similar al un hoja de calculo de Excel.\n",
    "\n",
    "Vamos a ver usando el método **head()** las cinco primeras lineas del dataframe **san**."
   ]
  },
  {
   "cell_type": "code",
   "execution_count": 12,
   "metadata": {
    "ExecuteTime": {
     "end_time": "2019-04-28T18:17:37.881180Z",
     "start_time": "2019-04-28T18:17:37.872250Z"
    }
   },
   "outputs": [
    {
     "data": {
      "text/html": [
       "<div>\n",
       "<style scoped>\n",
       "    .dataframe tbody tr th:only-of-type {\n",
       "        vertical-align: middle;\n",
       "    }\n",
       "\n",
       "    .dataframe tbody tr th {\n",
       "        vertical-align: top;\n",
       "    }\n",
       "\n",
       "    .dataframe thead th {\n",
       "        text-align: right;\n",
       "    }\n",
       "</style>\n",
       "<table border=\"1\" class=\"dataframe\">\n",
       "  <thead>\n",
       "    <tr style=\"text-align: right;\">\n",
       "      <th></th>\n",
       "      <th>Open</th>\n",
       "      <th>High</th>\n",
       "      <th>Low</th>\n",
       "      <th>Close</th>\n",
       "      <th>Adj Close</th>\n",
       "      <th>Volume</th>\n",
       "    </tr>\n",
       "    <tr>\n",
       "      <th>Date</th>\n",
       "      <th></th>\n",
       "      <th></th>\n",
       "      <th></th>\n",
       "      <th></th>\n",
       "      <th></th>\n",
       "      <th></th>\n",
       "    </tr>\n",
       "  </thead>\n",
       "  <tbody>\n",
       "    <tr>\n",
       "      <th>2008-01-02</th>\n",
       "      <td>13.2489</td>\n",
       "      <td>13.3302</td>\n",
       "      <td>13.0953</td>\n",
       "      <td>13.1766</td>\n",
       "      <td>5.868722</td>\n",
       "      <td>103998100</td>\n",
       "    </tr>\n",
       "    <tr>\n",
       "      <th>2008-01-03</th>\n",
       "      <td>13.1405</td>\n",
       "      <td>13.2037</td>\n",
       "      <td>12.9689</td>\n",
       "      <td>13.0502</td>\n",
       "      <td>5.812426</td>\n",
       "      <td>113222703</td>\n",
       "    </tr>\n",
       "    <tr>\n",
       "      <th>2008-01-04</th>\n",
       "      <td>13.0050</td>\n",
       "      <td>13.0863</td>\n",
       "      <td>12.7070</td>\n",
       "      <td>12.8605</td>\n",
       "      <td>5.727935</td>\n",
       "      <td>100543802</td>\n",
       "    </tr>\n",
       "    <tr>\n",
       "      <th>2008-01-07</th>\n",
       "      <td>12.8154</td>\n",
       "      <td>12.9057</td>\n",
       "      <td>12.6889</td>\n",
       "      <td>12.7793</td>\n",
       "      <td>5.691768</td>\n",
       "      <td>71995342</td>\n",
       "    </tr>\n",
       "    <tr>\n",
       "      <th>2008-01-08</th>\n",
       "      <td>12.7883</td>\n",
       "      <td>12.8063</td>\n",
       "      <td>12.4993</td>\n",
       "      <td>12.5806</td>\n",
       "      <td>5.603270</td>\n",
       "      <td>83100401</td>\n",
       "    </tr>\n",
       "  </tbody>\n",
       "</table>\n",
       "</div>"
      ],
      "text/plain": [
       "               Open     High      Low    Close  Adj Close     Volume\n",
       "Date                                                                \n",
       "2008-01-02  13.2489  13.3302  13.0953  13.1766   5.868722  103998100\n",
       "2008-01-03  13.1405  13.2037  12.9689  13.0502   5.812426  113222703\n",
       "2008-01-04  13.0050  13.0863  12.7070  12.8605   5.727935  100543802\n",
       "2008-01-07  12.8154  12.9057  12.6889  12.7793   5.691768   71995342\n",
       "2008-01-08  12.7883  12.8063  12.4993  12.5806   5.603270   83100401"
      ]
     },
     "execution_count": 12,
     "metadata": {},
     "output_type": "execute_result"
    }
   ],
   "source": [
    "san.head()"
   ]
  },
  {
   "cell_type": "markdown",
   "metadata": {},
   "source": [
    "Y con **tail()** las cinco últimas de **bbva**."
   ]
  },
  {
   "cell_type": "code",
   "execution_count": 13,
   "metadata": {
    "ExecuteTime": {
     "end_time": "2019-04-28T18:18:13.722094Z",
     "start_time": "2019-04-28T18:18:13.713148Z"
    }
   },
   "outputs": [
    {
     "data": {
      "text/html": [
       "<div>\n",
       "<style scoped>\n",
       "    .dataframe tbody tr th:only-of-type {\n",
       "        vertical-align: middle;\n",
       "    }\n",
       "\n",
       "    .dataframe tbody tr th {\n",
       "        vertical-align: top;\n",
       "    }\n",
       "\n",
       "    .dataframe thead th {\n",
       "        text-align: right;\n",
       "    }\n",
       "</style>\n",
       "<table border=\"1\" class=\"dataframe\">\n",
       "  <thead>\n",
       "    <tr style=\"text-align: right;\">\n",
       "      <th></th>\n",
       "      <th>Open</th>\n",
       "      <th>High</th>\n",
       "      <th>Low</th>\n",
       "      <th>Close</th>\n",
       "      <th>Adj Close</th>\n",
       "      <th>Volume</th>\n",
       "    </tr>\n",
       "    <tr>\n",
       "      <th>Date</th>\n",
       "      <th></th>\n",
       "      <th></th>\n",
       "      <th></th>\n",
       "      <th></th>\n",
       "      <th></th>\n",
       "      <th></th>\n",
       "    </tr>\n",
       "  </thead>\n",
       "  <tbody>\n",
       "    <tr>\n",
       "      <th>2018-12-21</th>\n",
       "      <td>4.6330</td>\n",
       "      <td>4.6600</td>\n",
       "      <td>4.5340</td>\n",
       "      <td>4.6185</td>\n",
       "      <td>4.484022</td>\n",
       "      <td>96489872</td>\n",
       "    </tr>\n",
       "    <tr>\n",
       "      <th>2018-12-24</th>\n",
       "      <td>4.5745</td>\n",
       "      <td>4.5990</td>\n",
       "      <td>4.5425</td>\n",
       "      <td>4.5580</td>\n",
       "      <td>4.425283</td>\n",
       "      <td>5652399</td>\n",
       "    </tr>\n",
       "    <tr>\n",
       "      <th>2018-12-27</th>\n",
       "      <td>4.6000</td>\n",
       "      <td>4.6380</td>\n",
       "      <td>4.4765</td>\n",
       "      <td>4.5450</td>\n",
       "      <td>4.412662</td>\n",
       "      <td>32726196</td>\n",
       "    </tr>\n",
       "    <tr>\n",
       "      <th>2018-12-28</th>\n",
       "      <td>4.5585</td>\n",
       "      <td>4.6480</td>\n",
       "      <td>4.5500</td>\n",
       "      <td>4.6410</td>\n",
       "      <td>4.505866</td>\n",
       "      <td>20924025</td>\n",
       "    </tr>\n",
       "    <tr>\n",
       "      <th>2018-12-31</th>\n",
       "      <td>4.6350</td>\n",
       "      <td>4.6635</td>\n",
       "      <td>4.6200</td>\n",
       "      <td>4.6355</td>\n",
       "      <td>4.500526</td>\n",
       "      <td>6885185</td>\n",
       "    </tr>\n",
       "  </tbody>\n",
       "</table>\n",
       "</div>"
      ],
      "text/plain": [
       "              Open    High     Low   Close  Adj Close    Volume\n",
       "Date                                                           \n",
       "2018-12-21  4.6330  4.6600  4.5340  4.6185   4.484022  96489872\n",
       "2018-12-24  4.5745  4.5990  4.5425  4.5580   4.425283   5652399\n",
       "2018-12-27  4.6000  4.6380  4.4765  4.5450   4.412662  32726196\n",
       "2018-12-28  4.5585  4.6480  4.5500  4.6410   4.505866  20924025\n",
       "2018-12-31  4.6350  4.6635  4.6200  4.6355   4.500526   6885185"
      ]
     },
     "execution_count": 13,
     "metadata": {},
     "output_type": "execute_result"
    }
   ],
   "source": [
    "bbva.tail()"
   ]
  },
  {
   "cell_type": "markdown",
   "metadata": {},
   "source": [
    "Vamos a usar la función de Pandas **describe()**, que nos dara un resumen estadistico de los datos contenidos en el dataframe. Lo que este método nos devuelve es un nuevo dataframe con los datos agregados."
   ]
  },
  {
   "cell_type": "code",
   "execution_count": 9,
   "metadata": {
    "ExecuteTime": {
     "end_time": "2019-04-28T18:14:51.787013Z",
     "start_time": "2019-04-28T18:14:51.762471Z"
    },
    "scrolled": true
   },
   "outputs": [
    {
     "data": {
      "text/html": [
       "<div>\n",
       "<style scoped>\n",
       "    .dataframe tbody tr th:only-of-type {\n",
       "        vertical-align: middle;\n",
       "    }\n",
       "\n",
       "    .dataframe tbody tr th {\n",
       "        vertical-align: top;\n",
       "    }\n",
       "\n",
       "    .dataframe thead th {\n",
       "        text-align: right;\n",
       "    }\n",
       "</style>\n",
       "<table border=\"1\" class=\"dataframe\">\n",
       "  <thead>\n",
       "    <tr style=\"text-align: right;\">\n",
       "      <th></th>\n",
       "      <th>Open</th>\n",
       "      <th>High</th>\n",
       "      <th>Low</th>\n",
       "      <th>Close</th>\n",
       "      <th>Adj Close</th>\n",
       "      <th>Volume</th>\n",
       "    </tr>\n",
       "  </thead>\n",
       "  <tbody>\n",
       "    <tr>\n",
       "      <th>count</th>\n",
       "      <td>2810.000000</td>\n",
       "      <td>2810.000000</td>\n",
       "      <td>2810.000000</td>\n",
       "      <td>2810.000000</td>\n",
       "      <td>2810.000000</td>\n",
       "      <td>2.810000e+03</td>\n",
       "    </tr>\n",
       "    <tr>\n",
       "      <th>mean</th>\n",
       "      <td>6.646034</td>\n",
       "      <td>6.736354</td>\n",
       "      <td>6.539929</td>\n",
       "      <td>6.641825</td>\n",
       "      <td>4.465291</td>\n",
       "      <td>9.608371e+07</td>\n",
       "    </tr>\n",
       "    <tr>\n",
       "      <th>std</th>\n",
       "      <td>2.121196</td>\n",
       "      <td>2.148194</td>\n",
       "      <td>2.085775</td>\n",
       "      <td>2.120126</td>\n",
       "      <td>0.873586</td>\n",
       "      <td>7.419585e+07</td>\n",
       "    </tr>\n",
       "    <tr>\n",
       "      <th>min</th>\n",
       "      <td>3.117870</td>\n",
       "      <td>3.327370</td>\n",
       "      <td>3.098200</td>\n",
       "      <td>3.245730</td>\n",
       "      <td>1.878404</td>\n",
       "      <td>7.377082e+06</td>\n",
       "    </tr>\n",
       "    <tr>\n",
       "      <th>25%</th>\n",
       "      <td>5.216290</td>\n",
       "      <td>5.280958</td>\n",
       "      <td>5.134370</td>\n",
       "      <td>5.203502</td>\n",
       "      <td>3.782240</td>\n",
       "      <td>5.309241e+07</td>\n",
       "    </tr>\n",
       "    <tr>\n",
       "      <th>50%</th>\n",
       "      <td>6.019360</td>\n",
       "      <td>6.091000</td>\n",
       "      <td>5.920515</td>\n",
       "      <td>6.028705</td>\n",
       "      <td>4.549748</td>\n",
       "      <td>7.453013e+07</td>\n",
       "    </tr>\n",
       "    <tr>\n",
       "      <th>75%</th>\n",
       "      <td>7.740327</td>\n",
       "      <td>7.832793</td>\n",
       "      <td>7.634295</td>\n",
       "      <td>7.738860</td>\n",
       "      <td>5.212689</td>\n",
       "      <td>1.127219e+08</td>\n",
       "    </tr>\n",
       "    <tr>\n",
       "      <th>max</th>\n",
       "      <td>13.248900</td>\n",
       "      <td>13.330200</td>\n",
       "      <td>13.095300</td>\n",
       "      <td>13.176600</td>\n",
       "      <td>6.157157</td>\n",
       "      <td>9.092368e+08</td>\n",
       "    </tr>\n",
       "  </tbody>\n",
       "</table>\n",
       "</div>"
      ],
      "text/plain": [
       "              Open         High          Low        Close    Adj Close  \\\n",
       "count  2810.000000  2810.000000  2810.000000  2810.000000  2810.000000   \n",
       "mean      6.646034     6.736354     6.539929     6.641825     4.465291   \n",
       "std       2.121196     2.148194     2.085775     2.120126     0.873586   \n",
       "min       3.117870     3.327370     3.098200     3.245730     1.878404   \n",
       "25%       5.216290     5.280958     5.134370     5.203502     3.782240   \n",
       "50%       6.019360     6.091000     5.920515     6.028705     4.549748   \n",
       "75%       7.740327     7.832793     7.634295     7.738860     5.212689   \n",
       "max      13.248900    13.330200    13.095300    13.176600     6.157157   \n",
       "\n",
       "             Volume  \n",
       "count  2.810000e+03  \n",
       "mean   9.608371e+07  \n",
       "std    7.419585e+07  \n",
       "min    7.377082e+06  \n",
       "25%    5.309241e+07  \n",
       "50%    7.453013e+07  \n",
       "75%    1.127219e+08  \n",
       "max    9.092368e+08  "
      ]
     },
     "execution_count": 9,
     "metadata": {},
     "output_type": "execute_result"
    }
   ],
   "source": [
    "san.describe()"
   ]
  },
  {
   "cell_type": "code",
   "execution_count": 10,
   "metadata": {
    "ExecuteTime": {
     "end_time": "2019-04-28T18:14:52.521629Z",
     "start_time": "2019-04-28T18:14:52.497718Z"
    }
   },
   "outputs": [
    {
     "data": {
      "text/html": [
       "<div>\n",
       "<style scoped>\n",
       "    .dataframe tbody tr th:only-of-type {\n",
       "        vertical-align: middle;\n",
       "    }\n",
       "\n",
       "    .dataframe tbody tr th {\n",
       "        vertical-align: top;\n",
       "    }\n",
       "\n",
       "    .dataframe thead th {\n",
       "        text-align: right;\n",
       "    }\n",
       "</style>\n",
       "<table border=\"1\" class=\"dataframe\">\n",
       "  <thead>\n",
       "    <tr style=\"text-align: right;\">\n",
       "      <th></th>\n",
       "      <th>Open</th>\n",
       "      <th>High</th>\n",
       "      <th>Low</th>\n",
       "      <th>Close</th>\n",
       "      <th>Adj Close</th>\n",
       "      <th>Volume</th>\n",
       "    </tr>\n",
       "  </thead>\n",
       "  <tbody>\n",
       "    <tr>\n",
       "      <th>count</th>\n",
       "      <td>2810.000000</td>\n",
       "      <td>2810.000000</td>\n",
       "      <td>2810.000000</td>\n",
       "      <td>2810.000000</td>\n",
       "      <td>2810.000000</td>\n",
       "      <td>2.810000e+03</td>\n",
       "    </tr>\n",
       "    <tr>\n",
       "      <th>mean</th>\n",
       "      <td>7.973480</td>\n",
       "      <td>8.078099</td>\n",
       "      <td>7.849524</td>\n",
       "      <td>7.968902</td>\n",
       "      <td>5.647123</td>\n",
       "      <td>5.260945e+07</td>\n",
       "    </tr>\n",
       "    <tr>\n",
       "      <th>std</th>\n",
       "      <td>2.116239</td>\n",
       "      <td>2.133773</td>\n",
       "      <td>2.090441</td>\n",
       "      <td>2.113349</td>\n",
       "      <td>1.128175</td>\n",
       "      <td>4.675970e+07</td>\n",
       "    </tr>\n",
       "    <tr>\n",
       "      <th>min</th>\n",
       "      <td>4.400000</td>\n",
       "      <td>4.540000</td>\n",
       "      <td>4.275310</td>\n",
       "      <td>4.430000</td>\n",
       "      <td>2.550083</td>\n",
       "      <td>5.217450e+06</td>\n",
       "    </tr>\n",
       "    <tr>\n",
       "      <th>25%</th>\n",
       "      <td>6.381500</td>\n",
       "      <td>6.465500</td>\n",
       "      <td>6.287000</td>\n",
       "      <td>6.375000</td>\n",
       "      <td>4.757789</td>\n",
       "      <td>2.698997e+07</td>\n",
       "    </tr>\n",
       "    <tr>\n",
       "      <th>50%</th>\n",
       "      <td>7.609500</td>\n",
       "      <td>7.699500</td>\n",
       "      <td>7.472000</td>\n",
       "      <td>7.597500</td>\n",
       "      <td>5.642354</td>\n",
       "      <td>3.900200e+07</td>\n",
       "    </tr>\n",
       "    <tr>\n",
       "      <th>75%</th>\n",
       "      <td>9.042500</td>\n",
       "      <td>9.157500</td>\n",
       "      <td>8.911750</td>\n",
       "      <td>9.040450</td>\n",
       "      <td>6.657778</td>\n",
       "      <td>6.072695e+07</td>\n",
       "    </tr>\n",
       "    <tr>\n",
       "      <th>max</th>\n",
       "      <td>16.102100</td>\n",
       "      <td>16.159700</td>\n",
       "      <td>15.852300</td>\n",
       "      <td>15.929100</td>\n",
       "      <td>8.330698</td>\n",
       "      <td>6.009019e+08</td>\n",
       "    </tr>\n",
       "  </tbody>\n",
       "</table>\n",
       "</div>"
      ],
      "text/plain": [
       "              Open         High          Low        Close    Adj Close  \\\n",
       "count  2810.000000  2810.000000  2810.000000  2810.000000  2810.000000   \n",
       "mean      7.973480     8.078099     7.849524     7.968902     5.647123   \n",
       "std       2.116239     2.133773     2.090441     2.113349     1.128175   \n",
       "min       4.400000     4.540000     4.275310     4.430000     2.550083   \n",
       "25%       6.381500     6.465500     6.287000     6.375000     4.757789   \n",
       "50%       7.609500     7.699500     7.472000     7.597500     5.642354   \n",
       "75%       9.042500     9.157500     8.911750     9.040450     6.657778   \n",
       "max      16.102100    16.159700    15.852300    15.929100     8.330698   \n",
       "\n",
       "             Volume  \n",
       "count  2.810000e+03  \n",
       "mean   5.260945e+07  \n",
       "std    4.675970e+07  \n",
       "min    5.217450e+06  \n",
       "25%    2.698997e+07  \n",
       "50%    3.900200e+07  \n",
       "75%    6.072695e+07  \n",
       "max    6.009019e+08  "
      ]
     },
     "execution_count": 10,
     "metadata": {},
     "output_type": "execute_result"
    }
   ],
   "source": [
    "bbva.describe()"
   ]
  },
  {
   "cell_type": "markdown",
   "metadata": {},
   "source": [
    "Vemos que tanto en este caso, como al usar **head()** y **tail()** no hemos aplicado la función y pasado entre parentesis el dataframe como un parametros, si no que tras el nombre del dataframe con un punto pasamos la función. Esto es debido a que **describe()** es un método del objeto dataframe, y ya lo toma como parametro. Esto es especialmente útil y permite el encadenado de métodos, es decir ir agregando funciones que toman el resultado de la anterior como parámetro."
   ]
  },
  {
   "cell_type": "markdown",
   "metadata": {},
   "source": [
    "Otro método que nos proporciona información resumidad es **info()**."
   ]
  },
  {
   "cell_type": "code",
   "execution_count": 14,
   "metadata": {
    "ExecuteTime": {
     "end_time": "2019-04-28T18:22:57.406154Z",
     "start_time": "2019-04-28T18:22:57.399958Z"
    }
   },
   "outputs": [
    {
     "name": "stdout",
     "output_type": "stream",
     "text": [
      "<class 'pandas.core.frame.DataFrame'>\n",
      "DatetimeIndex: 2810 entries, 2008-01-02 to 2018-12-31\n",
      "Data columns (total 6 columns):\n",
      "Open         2810 non-null float64\n",
      "High         2810 non-null float64\n",
      "Low          2810 non-null float64\n",
      "Close        2810 non-null float64\n",
      "Adj Close    2810 non-null float64\n",
      "Volume       2810 non-null int64\n",
      "dtypes: float64(5), int64(1)\n",
      "memory usage: 153.7 KB\n"
     ]
    }
   ],
   "source": [
    "san.info()"
   ]
  },
  {
   "cell_type": "code",
   "execution_count": 15,
   "metadata": {
    "ExecuteTime": {
     "end_time": "2019-04-28T18:22:58.115154Z",
     "start_time": "2019-04-28T18:22:58.106221Z"
    }
   },
   "outputs": [
    {
     "name": "stdout",
     "output_type": "stream",
     "text": [
      "<class 'pandas.core.frame.DataFrame'>\n",
      "DatetimeIndex: 2810 entries, 2008-01-02 to 2018-12-31\n",
      "Data columns (total 6 columns):\n",
      "Open         2810 non-null float64\n",
      "High         2810 non-null float64\n",
      "Low          2810 non-null float64\n",
      "Close        2810 non-null float64\n",
      "Adj Close    2810 non-null float64\n",
      "Volume       2810 non-null int64\n",
      "dtypes: float64(5), int64(1)\n",
      "memory usage: 153.7 KB\n"
     ]
    }
   ],
   "source": [
    "bbva.info()"
   ]
  },
  {
   "cell_type": "markdown",
   "metadata": {},
   "source": [
    "Revisamos las dimensiones de cada dataframe, vemos que tienen dos dimensiones, que reflejan las filas y las columnas. \n",
    "\n",
    "2810 filas correspondientes a los días de cotización, y 6 columnas para los distintos datos.\n",
    "\n",
    "Para ello usamos **shape**, que como vemos no lleva parentesis detrás, esto es debido a que es una propiedad del dataframe y no un método del mismo."
   ]
  },
  {
   "cell_type": "code",
   "execution_count": 17,
   "metadata": {
    "ExecuteTime": {
     "end_time": "2019-04-28T18:24:51.065109Z",
     "start_time": "2019-04-28T18:24:51.061956Z"
    }
   },
   "outputs": [
    {
     "data": {
      "text/plain": [
       "(2810, 6)"
      ]
     },
     "execution_count": 17,
     "metadata": {},
     "output_type": "execute_result"
    }
   ],
   "source": [
    "san.shape"
   ]
  },
  {
   "cell_type": "code",
   "execution_count": 18,
   "metadata": {
    "ExecuteTime": {
     "end_time": "2019-04-28T18:24:54.296197Z",
     "start_time": "2019-04-28T18:24:54.293394Z"
    }
   },
   "outputs": [
    {
     "data": {
      "text/plain": [
       "(2810, 6)"
      ]
     },
     "execution_count": 18,
     "metadata": {},
     "output_type": "execute_result"
    }
   ],
   "source": [
    "bbva.shape"
   ]
  },
  {
   "cell_type": "markdown",
   "metadata": {},
   "source": [
    "Podemos extraer el indice y las columnas de un dataframe usando **index** y **columns** respectivamente. "
   ]
  },
  {
   "cell_type": "markdown",
   "metadata": {},
   "source": [
    "El índice de nuestros dataframe son las fechas de los dias cotizados."
   ]
  },
  {
   "cell_type": "code",
   "execution_count": 83,
   "metadata": {
    "ExecuteTime": {
     "end_time": "2019-04-29T10:53:22.127057Z",
     "start_time": "2019-04-29T10:53:22.122145Z"
    }
   },
   "outputs": [
    {
     "data": {
      "text/plain": [
       "DatetimeIndex(['2008-01-02', '2008-01-03', '2008-01-04', '2008-01-07',\n",
       "               '2008-01-08', '2008-01-09', '2008-01-10', '2008-01-11',\n",
       "               '2008-01-14', '2008-01-15',\n",
       "               ...\n",
       "               '2018-12-14', '2018-12-17', '2018-12-18', '2018-12-19',\n",
       "               '2018-12-20', '2018-12-21', '2018-12-24', '2018-12-27',\n",
       "               '2018-12-28', '2018-12-31'],\n",
       "              dtype='datetime64[ns]', name='Date', length=2810, freq=None)"
      ]
     },
     "execution_count": 83,
     "metadata": {},
     "output_type": "execute_result"
    }
   ],
   "source": [
    "san.index"
   ]
  },
  {
   "cell_type": "markdown",
   "metadata": {},
   "source": [
    "Mientras que las columnas recogen los distintos valores de cada día cotizado."
   ]
  },
  {
   "cell_type": "code",
   "execution_count": 13,
   "metadata": {
    "scrolled": true
   },
   "outputs": [
    {
     "data": {
      "text/plain": [
       "Index(['Open', 'High', 'Low', 'Close', 'Adj Close', 'Volume'], dtype='object')"
      ]
     },
     "execution_count": 13,
     "metadata": {},
     "output_type": "execute_result"
    }
   ],
   "source": [
    "san.columns"
   ]
  },
  {
   "cell_type": "markdown",
   "metadata": {},
   "source": [
    "Observamos como en ambos casos nos muestra 6 columnas y 5 filas. Las columna **Open** por ejemplo contiene todos los precios de apertura de cada acción. Y las filas están precedidas por una fecha que es el indice de nuestro dataframe. Así podemos obtener datos llamandolos por su columna, su indice o por una combinación de ambos."
   ]
  },
  {
   "cell_type": "markdown",
   "metadata": {},
   "source": [
    "## Extracción de datos."
   ]
  },
  {
   "cell_type": "markdown",
   "metadata": {},
   "source": [
    "Puede ser que nos interese solo una columna y podemos extraerla del dataframe, lo que nos devuelve es un objeto Serie de Pandas."
   ]
  },
  {
   "cell_type": "code",
   "execution_count": 24,
   "metadata": {
    "ExecuteTime": {
     "end_time": "2019-04-28T18:38:07.643788Z",
     "start_time": "2019-04-28T18:38:07.637906Z"
    }
   },
   "outputs": [
    {
     "data": {
      "text/plain": [
       "Date\n",
       "2008-01-02    13.1766\n",
       "2008-01-03    13.0502\n",
       "2008-01-04    12.8605\n",
       "2008-01-07    12.7793\n",
       "2008-01-08    12.5806\n",
       "2008-01-09    12.3277\n",
       "2008-01-10    12.1832\n",
       "2008-01-11    12.3819\n",
       "2008-01-14    12.2103\n",
       "2008-01-15    11.7407\n",
       "2008-01-16    11.6052\n",
       "2008-01-17    11.5149\n",
       "2008-01-18    11.2349\n",
       "2008-01-21    10.2234\n",
       "2008-01-22    10.6930\n",
       "2008-01-23    10.1782\n",
       "2008-01-24    10.8466\n",
       "2008-01-25    10.9188\n",
       "2008-01-28    10.8285\n",
       "2008-01-29    10.8917\n",
       "2008-01-30    10.8466\n",
       "2008-01-31    10.6840\n",
       "2008-02-01    10.9007\n",
       "2008-02-04    10.8285\n",
       "2008-02-05    10.2505\n",
       "2008-02-06    10.4763\n",
       "2008-02-07    10.4763\n",
       "2008-02-08    10.5034\n",
       "2008-02-11    10.3227\n",
       "2008-02-12    10.7111\n",
       "               ...   \n",
       "2018-11-16     4.2200\n",
       "2018-11-19     4.2030\n",
       "2018-11-20     4.0800\n",
       "2018-11-21     4.1530\n",
       "2018-11-22     4.0855\n",
       "2018-11-23     4.0875\n",
       "2018-11-26     4.2055\n",
       "2018-11-27     4.1985\n",
       "2018-11-28     4.2245\n",
       "2018-11-29     4.2135\n",
       "2018-11-30     4.1850\n",
       "2018-12-03     4.2720\n",
       "2018-12-04     4.1675\n",
       "2018-12-05     4.1390\n",
       "2018-12-06     3.9800\n",
       "2018-12-07     3.9790\n",
       "2018-12-10     3.8730\n",
       "2018-12-11     3.8790\n",
       "2018-12-12     4.0105\n",
       "2018-12-13     4.0710\n",
       "2018-12-14     4.0595\n",
       "2018-12-17     4.0270\n",
       "2018-12-18     3.9900\n",
       "2018-12-19     4.0415\n",
       "2018-12-20     3.9780\n",
       "2018-12-21     3.9305\n",
       "2018-12-24     3.8915\n",
       "2018-12-27     3.8620\n",
       "2018-12-28     3.9450\n",
       "2018-12-31     3.9730\n",
       "Name: Close, Length: 2810, dtype: float64"
      ]
     },
     "execution_count": 24,
     "metadata": {},
     "output_type": "execute_result"
    }
   ],
   "source": [
    "san['Close']"
   ]
  },
  {
   "cell_type": "markdown",
   "metadata": {},
   "source": [
    "O bien solo nos interese una fecha en concreto."
   ]
  },
  {
   "cell_type": "code",
   "execution_count": 27,
   "metadata": {
    "ExecuteTime": {
     "end_time": "2019-04-28T18:39:42.089680Z",
     "start_time": "2019-04-28T18:39:42.084824Z"
    }
   },
   "outputs": [
    {
     "data": {
      "text/plain": [
       "Open         4.635000e+00\n",
       "High         4.663500e+00\n",
       "Low          4.620000e+00\n",
       "Close        4.635500e+00\n",
       "Adj Close    4.500526e+00\n",
       "Volume       6.885185e+06\n",
       "Name: 2018-12-31 00:00:00, dtype: float64"
      ]
     },
     "execution_count": 27,
     "metadata": {},
     "output_type": "execute_result"
    }
   ],
   "source": [
    "bbva.loc['2018-12-31']"
   ]
  },
  {
   "cell_type": "markdown",
   "metadata": {},
   "source": [
    "Vemos que para extraer una columna solo necesitamos pasar su nombre entre corchetes pero para un índice usamos el metodo **loc**. Pandas tiene diversas formas de extraer la información en función de como queramos hacerlo. Así el método **loc** extrae en base al valor del indice o columna, y el método **iloc** lo hace en función del numero ordinal que ocupa dicho índice o columna."
   ]
  },
  {
   "cell_type": "code",
   "execution_count": 29,
   "metadata": {
    "ExecuteTime": {
     "end_time": "2019-04-28T18:45:05.298130Z",
     "start_time": "2019-04-28T18:45:05.293943Z"
    }
   },
   "outputs": [
    {
     "data": {
      "text/plain": [
       "Open         1.324890e+01\n",
       "High         1.333020e+01\n",
       "Low          1.309530e+01\n",
       "Close        1.317660e+01\n",
       "Adj Close    5.868722e+00\n",
       "Volume       1.039981e+08\n",
       "Name: 2008-01-02 00:00:00, dtype: float64"
      ]
     },
     "execution_count": 29,
     "metadata": {},
     "output_type": "execute_result"
    }
   ],
   "source": [
    "san.iloc[0]"
   ]
  },
  {
   "cell_type": "markdown",
   "metadata": {},
   "source": [
    "Aunque para hacer una extracción por número de orden de varias filas no necesitamos usar **iloc** podemos hacerlo diréctamente."
   ]
  },
  {
   "cell_type": "code",
   "execution_count": 57,
   "metadata": {
    "ExecuteTime": {
     "end_time": "2019-04-28T19:06:19.709474Z",
     "start_time": "2019-04-28T19:06:19.700141Z"
    }
   },
   "outputs": [
    {
     "data": {
      "text/html": [
       "<div>\n",
       "<style scoped>\n",
       "    .dataframe tbody tr th:only-of-type {\n",
       "        vertical-align: middle;\n",
       "    }\n",
       "\n",
       "    .dataframe tbody tr th {\n",
       "        vertical-align: top;\n",
       "    }\n",
       "\n",
       "    .dataframe thead th {\n",
       "        text-align: right;\n",
       "    }\n",
       "</style>\n",
       "<table border=\"1\" class=\"dataframe\">\n",
       "  <thead>\n",
       "    <tr style=\"text-align: right;\">\n",
       "      <th></th>\n",
       "      <th>Open</th>\n",
       "      <th>High</th>\n",
       "      <th>Low</th>\n",
       "      <th>Close</th>\n",
       "      <th>Adj Close</th>\n",
       "      <th>Volume</th>\n",
       "    </tr>\n",
       "    <tr>\n",
       "      <th>Date</th>\n",
       "      <th></th>\n",
       "      <th></th>\n",
       "      <th></th>\n",
       "      <th></th>\n",
       "      <th></th>\n",
       "      <th></th>\n",
       "    </tr>\n",
       "  </thead>\n",
       "  <tbody>\n",
       "    <tr>\n",
       "      <th>2008-05-26</th>\n",
       "      <td>12.0387</td>\n",
       "      <td>12.0387</td>\n",
       "      <td>11.8400</td>\n",
       "      <td>11.9122</td>\n",
       "      <td>5.491112</td>\n",
       "      <td>57912101</td>\n",
       "    </tr>\n",
       "    <tr>\n",
       "      <th>2008-05-27</th>\n",
       "      <td>11.9122</td>\n",
       "      <td>11.9935</td>\n",
       "      <td>11.7858</td>\n",
       "      <td>11.8129</td>\n",
       "      <td>5.445339</td>\n",
       "      <td>53285353</td>\n",
       "    </tr>\n",
       "    <tr>\n",
       "      <th>2008-05-28</th>\n",
       "      <td>11.8129</td>\n",
       "      <td>12.1019</td>\n",
       "      <td>11.8129</td>\n",
       "      <td>11.9664</td>\n",
       "      <td>5.516099</td>\n",
       "      <td>51351373</td>\n",
       "    </tr>\n",
       "    <tr>\n",
       "      <th>2008-05-29</th>\n",
       "      <td>11.9664</td>\n",
       "      <td>12.1200</td>\n",
       "      <td>11.8219</td>\n",
       "      <td>11.9664</td>\n",
       "      <td>5.516099</td>\n",
       "      <td>43426708</td>\n",
       "    </tr>\n",
       "    <tr>\n",
       "      <th>2008-05-30</th>\n",
       "      <td>11.9664</td>\n",
       "      <td>12.1200</td>\n",
       "      <td>11.9664</td>\n",
       "      <td>12.0929</td>\n",
       "      <td>5.574409</td>\n",
       "      <td>40694225</td>\n",
       "    </tr>\n",
       "    <tr>\n",
       "      <th>2008-06-02</th>\n",
       "      <td>12.0929</td>\n",
       "      <td>12.0929</td>\n",
       "      <td>11.7677</td>\n",
       "      <td>11.8219</td>\n",
       "      <td>5.449489</td>\n",
       "      <td>45788834</td>\n",
       "    </tr>\n",
       "  </tbody>\n",
       "</table>\n",
       "</div>"
      ],
      "text/plain": [
       "               Open     High      Low    Close  Adj Close    Volume\n",
       "Date                                                               \n",
       "2008-05-26  12.0387  12.0387  11.8400  11.9122   5.491112  57912101\n",
       "2008-05-27  11.9122  11.9935  11.7858  11.8129   5.445339  53285353\n",
       "2008-05-28  11.8129  12.1019  11.8129  11.9664   5.516099  51351373\n",
       "2008-05-29  11.9664  12.1200  11.8219  11.9664   5.516099  43426708\n",
       "2008-05-30  11.9664  12.1200  11.9664  12.0929   5.574409  40694225\n",
       "2008-06-02  12.0929  12.0929  11.7677  11.8219   5.449489  45788834"
      ]
     },
     "execution_count": 57,
     "metadata": {},
     "output_type": "execute_result"
    }
   ],
   "source": [
    "san[100:106]"
   ]
  },
  {
   "cell_type": "markdown",
   "metadata": {},
   "source": [
    "Si es útil cuando queremos hacer una extracción tanto de filas como de columnas."
   ]
  },
  {
   "cell_type": "code",
   "execution_count": 31,
   "metadata": {
    "ExecuteTime": {
     "end_time": "2019-04-28T18:45:28.467912Z",
     "start_time": "2019-04-28T18:45:28.460992Z"
    },
    "scrolled": true
   },
   "outputs": [
    {
     "data": {
      "text/html": [
       "<div>\n",
       "<style scoped>\n",
       "    .dataframe tbody tr th:only-of-type {\n",
       "        vertical-align: middle;\n",
       "    }\n",
       "\n",
       "    .dataframe tbody tr th {\n",
       "        vertical-align: top;\n",
       "    }\n",
       "\n",
       "    .dataframe thead th {\n",
       "        text-align: right;\n",
       "    }\n",
       "</style>\n",
       "<table border=\"1\" class=\"dataframe\">\n",
       "  <thead>\n",
       "    <tr style=\"text-align: right;\">\n",
       "      <th></th>\n",
       "      <th>Open</th>\n",
       "      <th>High</th>\n",
       "    </tr>\n",
       "    <tr>\n",
       "      <th>Date</th>\n",
       "      <th></th>\n",
       "      <th></th>\n",
       "    </tr>\n",
       "  </thead>\n",
       "  <tbody>\n",
       "    <tr>\n",
       "      <th>2008-01-02</th>\n",
       "      <td>13.2489</td>\n",
       "      <td>13.3302</td>\n",
       "    </tr>\n",
       "    <tr>\n",
       "      <th>2008-01-03</th>\n",
       "      <td>13.1405</td>\n",
       "      <td>13.2037</td>\n",
       "    </tr>\n",
       "  </tbody>\n",
       "</table>\n",
       "</div>"
      ],
      "text/plain": [
       "               Open     High\n",
       "Date                        \n",
       "2008-01-02  13.2489  13.3302\n",
       "2008-01-03  13.1405  13.2037"
      ]
     },
     "execution_count": 31,
     "metadata": {},
     "output_type": "execute_result"
    }
   ],
   "source": [
    "san.iloc[:2,:2]"
   ]
  },
  {
   "cell_type": "markdown",
   "metadata": {},
   "source": [
    "Ahora veamos el cierre ajustado y el volumen desde el 1 al 10 de noviembre de 2015."
   ]
  },
  {
   "cell_type": "code",
   "execution_count": 35,
   "metadata": {
    "ExecuteTime": {
     "end_time": "2019-04-28T18:49:39.077508Z",
     "start_time": "2019-04-28T18:49:39.064927Z"
    }
   },
   "outputs": [
    {
     "data": {
      "text/html": [
       "<div>\n",
       "<style scoped>\n",
       "    .dataframe tbody tr th:only-of-type {\n",
       "        vertical-align: middle;\n",
       "    }\n",
       "\n",
       "    .dataframe tbody tr th {\n",
       "        vertical-align: top;\n",
       "    }\n",
       "\n",
       "    .dataframe thead th {\n",
       "        text-align: right;\n",
       "    }\n",
       "</style>\n",
       "<table border=\"1\" class=\"dataframe\">\n",
       "  <thead>\n",
       "    <tr style=\"text-align: right;\">\n",
       "      <th></th>\n",
       "      <th>Adj Close</th>\n",
       "      <th>Volume</th>\n",
       "    </tr>\n",
       "    <tr>\n",
       "      <th>Date</th>\n",
       "      <th></th>\n",
       "      <th></th>\n",
       "    </tr>\n",
       "  </thead>\n",
       "  <tbody>\n",
       "    <tr>\n",
       "      <th>2015-11-02</th>\n",
       "      <td>4.374040</td>\n",
       "      <td>57910508</td>\n",
       "    </tr>\n",
       "    <tr>\n",
       "      <th>2015-11-03</th>\n",
       "      <td>4.416542</td>\n",
       "      <td>148301916</td>\n",
       "    </tr>\n",
       "    <tr>\n",
       "      <th>2015-11-04</th>\n",
       "      <td>4.483690</td>\n",
       "      <td>105920463</td>\n",
       "    </tr>\n",
       "    <tr>\n",
       "      <th>2015-11-05</th>\n",
       "      <td>4.425892</td>\n",
       "      <td>87484985</td>\n",
       "    </tr>\n",
       "    <tr>\n",
       "      <th>2015-11-06</th>\n",
       "      <td>4.509184</td>\n",
       "      <td>86906806</td>\n",
       "    </tr>\n",
       "    <tr>\n",
       "      <th>2015-11-09</th>\n",
       "      <td>4.413992</td>\n",
       "      <td>71676192</td>\n",
       "    </tr>\n",
       "    <tr>\n",
       "      <th>2015-11-10</th>\n",
       "      <td>4.398687</td>\n",
       "      <td>39123436</td>\n",
       "    </tr>\n",
       "  </tbody>\n",
       "</table>\n",
       "</div>"
      ],
      "text/plain": [
       "            Adj Close     Volume\n",
       "Date                            \n",
       "2015-11-02   4.374040   57910508\n",
       "2015-11-03   4.416542  148301916\n",
       "2015-11-04   4.483690  105920463\n",
       "2015-11-05   4.425892   87484985\n",
       "2015-11-06   4.509184   86906806\n",
       "2015-11-09   4.413992   71676192\n",
       "2015-11-10   4.398687   39123436"
      ]
     },
     "execution_count": 35,
     "metadata": {},
     "output_type": "execute_result"
    }
   ],
   "source": [
    "san.loc['2015-11-01':'2015-11-10', 'Adj Close':'Volume'] "
   ]
  },
  {
   "cell_type": "markdown",
   "metadata": {},
   "source": [
    "Si tenemos en cuenta que lo se devuelve simpre es un dataframe o una serie, podemos encadenar formas de hacer extracciones.\n",
    "\n",
    "Así por ejemplo podemos tomar primero 3 columnas por su nombre y despues las diez últimas filas. En este caso no necesitamos usar **iloc**."
   ]
  },
  {
   "cell_type": "code",
   "execution_count": 33,
   "metadata": {
    "ExecuteTime": {
     "end_time": "2019-04-28T18:48:32.194075Z",
     "start_time": "2019-04-28T18:48:32.184928Z"
    }
   },
   "outputs": [
    {
     "data": {
      "text/html": [
       "<div>\n",
       "<style scoped>\n",
       "    .dataframe tbody tr th:only-of-type {\n",
       "        vertical-align: middle;\n",
       "    }\n",
       "\n",
       "    .dataframe tbody tr th {\n",
       "        vertical-align: top;\n",
       "    }\n",
       "\n",
       "    .dataframe thead th {\n",
       "        text-align: right;\n",
       "    }\n",
       "</style>\n",
       "<table border=\"1\" class=\"dataframe\">\n",
       "  <thead>\n",
       "    <tr style=\"text-align: right;\">\n",
       "      <th></th>\n",
       "      <th>Close</th>\n",
       "      <th>Low</th>\n",
       "      <th>Volume</th>\n",
       "    </tr>\n",
       "    <tr>\n",
       "      <th>Date</th>\n",
       "      <th></th>\n",
       "      <th></th>\n",
       "      <th></th>\n",
       "    </tr>\n",
       "  </thead>\n",
       "  <tbody>\n",
       "    <tr>\n",
       "      <th>2018-12-14</th>\n",
       "      <td>4.0595</td>\n",
       "      <td>3.9755</td>\n",
       "      <td>65754616</td>\n",
       "    </tr>\n",
       "    <tr>\n",
       "      <th>2018-12-17</th>\n",
       "      <td>4.0270</td>\n",
       "      <td>4.0250</td>\n",
       "      <td>39823249</td>\n",
       "    </tr>\n",
       "    <tr>\n",
       "      <th>2018-12-18</th>\n",
       "      <td>3.9900</td>\n",
       "      <td>3.9900</td>\n",
       "      <td>44570803</td>\n",
       "    </tr>\n",
       "    <tr>\n",
       "      <th>2018-12-19</th>\n",
       "      <td>4.0415</td>\n",
       "      <td>4.0080</td>\n",
       "      <td>52444592</td>\n",
       "    </tr>\n",
       "    <tr>\n",
       "      <th>2018-12-20</th>\n",
       "      <td>3.9780</td>\n",
       "      <td>3.9465</td>\n",
       "      <td>58014374</td>\n",
       "    </tr>\n",
       "    <tr>\n",
       "      <th>2018-12-21</th>\n",
       "      <td>3.9305</td>\n",
       "      <td>3.8815</td>\n",
       "      <td>212350900</td>\n",
       "    </tr>\n",
       "    <tr>\n",
       "      <th>2018-12-24</th>\n",
       "      <td>3.8915</td>\n",
       "      <td>3.8745</td>\n",
       "      <td>15720836</td>\n",
       "    </tr>\n",
       "    <tr>\n",
       "      <th>2018-12-27</th>\n",
       "      <td>3.8620</td>\n",
       "      <td>3.8000</td>\n",
       "      <td>51788055</td>\n",
       "    </tr>\n",
       "    <tr>\n",
       "      <th>2018-12-28</th>\n",
       "      <td>3.9450</td>\n",
       "      <td>3.8630</td>\n",
       "      <td>35454221</td>\n",
       "    </tr>\n",
       "    <tr>\n",
       "      <th>2018-12-31</th>\n",
       "      <td>3.9730</td>\n",
       "      <td>3.9065</td>\n",
       "      <td>16730575</td>\n",
       "    </tr>\n",
       "  </tbody>\n",
       "</table>\n",
       "</div>"
      ],
      "text/plain": [
       "             Close     Low     Volume\n",
       "Date                                 \n",
       "2018-12-14  4.0595  3.9755   65754616\n",
       "2018-12-17  4.0270  4.0250   39823249\n",
       "2018-12-18  3.9900  3.9900   44570803\n",
       "2018-12-19  4.0415  4.0080   52444592\n",
       "2018-12-20  3.9780  3.9465   58014374\n",
       "2018-12-21  3.9305  3.8815  212350900\n",
       "2018-12-24  3.8915  3.8745   15720836\n",
       "2018-12-27  3.8620  3.8000   51788055\n",
       "2018-12-28  3.9450  3.8630   35454221\n",
       "2018-12-31  3.9730  3.9065   16730575"
      ]
     },
     "execution_count": 33,
     "metadata": {},
     "output_type": "execute_result"
    }
   ],
   "source": [
    "san[['Close', 'Low', 'Volume']][-10:]"
   ]
  },
  {
   "cell_type": "markdown",
   "metadata": {
    "ExecuteTime": {
     "end_time": "2019-04-28T18:48:55.467284Z",
     "start_time": "2019-04-28T18:48:55.464383Z"
    }
   },
   "source": [
    "O tomor dos columnas y usar el método **head()**. Por ejemplo para tomar los 5 primeros mínimos y máximos"
   ]
  },
  {
   "cell_type": "code",
   "execution_count": 15,
   "metadata": {},
   "outputs": [
    {
     "data": {
      "text/html": [
       "<div>\n",
       "<style scoped>\n",
       "    .dataframe tbody tr th:only-of-type {\n",
       "        vertical-align: middle;\n",
       "    }\n",
       "\n",
       "    .dataframe tbody tr th {\n",
       "        vertical-align: top;\n",
       "    }\n",
       "\n",
       "    .dataframe thead th {\n",
       "        text-align: right;\n",
       "    }\n",
       "</style>\n",
       "<table border=\"1\" class=\"dataframe\">\n",
       "  <thead>\n",
       "    <tr style=\"text-align: right;\">\n",
       "      <th></th>\n",
       "      <th>High</th>\n",
       "      <th>Low</th>\n",
       "    </tr>\n",
       "    <tr>\n",
       "      <th>Date</th>\n",
       "      <th></th>\n",
       "      <th></th>\n",
       "    </tr>\n",
       "  </thead>\n",
       "  <tbody>\n",
       "    <tr>\n",
       "      <th>2008-01-02</th>\n",
       "      <td>13.3302</td>\n",
       "      <td>13.0953</td>\n",
       "    </tr>\n",
       "    <tr>\n",
       "      <th>2008-01-03</th>\n",
       "      <td>13.2037</td>\n",
       "      <td>12.9689</td>\n",
       "    </tr>\n",
       "    <tr>\n",
       "      <th>2008-01-04</th>\n",
       "      <td>13.0863</td>\n",
       "      <td>12.7070</td>\n",
       "    </tr>\n",
       "    <tr>\n",
       "      <th>2008-01-07</th>\n",
       "      <td>12.9057</td>\n",
       "      <td>12.6889</td>\n",
       "    </tr>\n",
       "    <tr>\n",
       "      <th>2008-01-08</th>\n",
       "      <td>12.8063</td>\n",
       "      <td>12.4993</td>\n",
       "    </tr>\n",
       "  </tbody>\n",
       "</table>\n",
       "</div>"
      ],
      "text/plain": [
       "               High      Low\n",
       "Date                        \n",
       "2008-01-02  13.3302  13.0953\n",
       "2008-01-03  13.2037  12.9689\n",
       "2008-01-04  13.0863  12.7070\n",
       "2008-01-07  12.9057  12.6889\n",
       "2008-01-08  12.8063  12.4993"
      ]
     },
     "execution_count": 15,
     "metadata": {},
     "output_type": "execute_result"
    }
   ],
   "source": [
    "san[['High','Low']].head()"
   ]
  },
  {
   "cell_type": "markdown",
   "metadata": {},
   "source": [
    "Además **loc** cuando lo usamos sobre un índice de fechas (*datetime*) permite extraer usando periodos. Así si queremos extraer los datos de mayo de 2018 podemos hacer lo siguiente."
   ]
  },
  {
   "cell_type": "code",
   "execution_count": 43,
   "metadata": {
    "ExecuteTime": {
     "end_time": "2019-04-28T18:53:09.012996Z",
     "start_time": "2019-04-28T18:53:09.000798Z"
    },
    "scrolled": true
   },
   "outputs": [
    {
     "data": {
      "text/html": [
       "<div>\n",
       "<style scoped>\n",
       "    .dataframe tbody tr th:only-of-type {\n",
       "        vertical-align: middle;\n",
       "    }\n",
       "\n",
       "    .dataframe tbody tr th {\n",
       "        vertical-align: top;\n",
       "    }\n",
       "\n",
       "    .dataframe thead th {\n",
       "        text-align: right;\n",
       "    }\n",
       "</style>\n",
       "<table border=\"1\" class=\"dataframe\">\n",
       "  <thead>\n",
       "    <tr style=\"text-align: right;\">\n",
       "      <th></th>\n",
       "      <th>Open</th>\n",
       "      <th>High</th>\n",
       "      <th>Low</th>\n",
       "      <th>Close</th>\n",
       "      <th>Adj Close</th>\n",
       "      <th>Volume</th>\n",
       "    </tr>\n",
       "    <tr>\n",
       "      <th>Date</th>\n",
       "      <th></th>\n",
       "      <th></th>\n",
       "      <th></th>\n",
       "      <th></th>\n",
       "      <th></th>\n",
       "      <th></th>\n",
       "    </tr>\n",
       "  </thead>\n",
       "  <tbody>\n",
       "    <tr>\n",
       "      <th>2018-05-02</th>\n",
       "      <td>5.359</td>\n",
       "      <td>5.415</td>\n",
       "      <td>5.3570</td>\n",
       "      <td>5.3980</td>\n",
       "      <td>5.202323</td>\n",
       "      <td>320982382</td>\n",
       "    </tr>\n",
       "    <tr>\n",
       "      <th>2018-05-03</th>\n",
       "      <td>5.390</td>\n",
       "      <td>5.416</td>\n",
       "      <td>5.3150</td>\n",
       "      <td>5.3360</td>\n",
       "      <td>5.142571</td>\n",
       "      <td>260700006</td>\n",
       "    </tr>\n",
       "    <tr>\n",
       "      <th>2018-05-04</th>\n",
       "      <td>5.328</td>\n",
       "      <td>5.379</td>\n",
       "      <td>5.3010</td>\n",
       "      <td>5.3760</td>\n",
       "      <td>5.181121</td>\n",
       "      <td>34640717</td>\n",
       "    </tr>\n",
       "    <tr>\n",
       "      <th>2018-05-07</th>\n",
       "      <td>5.387</td>\n",
       "      <td>5.405</td>\n",
       "      <td>5.3560</td>\n",
       "      <td>5.3800</td>\n",
       "      <td>5.184977</td>\n",
       "      <td>94307179</td>\n",
       "    </tr>\n",
       "    <tr>\n",
       "      <th>2018-05-08</th>\n",
       "      <td>5.378</td>\n",
       "      <td>5.423</td>\n",
       "      <td>5.3250</td>\n",
       "      <td>5.3840</td>\n",
       "      <td>5.188831</td>\n",
       "      <td>68881042</td>\n",
       "    </tr>\n",
       "    <tr>\n",
       "      <th>2018-05-09</th>\n",
       "      <td>5.390</td>\n",
       "      <td>5.449</td>\n",
       "      <td>5.3850</td>\n",
       "      <td>5.4350</td>\n",
       "      <td>5.237983</td>\n",
       "      <td>64844626</td>\n",
       "    </tr>\n",
       "    <tr>\n",
       "      <th>2018-05-10</th>\n",
       "      <td>5.456</td>\n",
       "      <td>5.486</td>\n",
       "      <td>5.4120</td>\n",
       "      <td>5.4860</td>\n",
       "      <td>5.287134</td>\n",
       "      <td>37895987</td>\n",
       "    </tr>\n",
       "    <tr>\n",
       "      <th>2018-05-11</th>\n",
       "      <td>5.490</td>\n",
       "      <td>5.528</td>\n",
       "      <td>5.4740</td>\n",
       "      <td>5.5180</td>\n",
       "      <td>5.317974</td>\n",
       "      <td>45371092</td>\n",
       "    </tr>\n",
       "    <tr>\n",
       "      <th>2018-05-14</th>\n",
       "      <td>5.514</td>\n",
       "      <td>5.537</td>\n",
       "      <td>5.4760</td>\n",
       "      <td>5.5060</td>\n",
       "      <td>5.306409</td>\n",
       "      <td>32216377</td>\n",
       "    </tr>\n",
       "    <tr>\n",
       "      <th>2018-05-15</th>\n",
       "      <td>5.491</td>\n",
       "      <td>5.526</td>\n",
       "      <td>5.4320</td>\n",
       "      <td>5.4670</td>\n",
       "      <td>5.268823</td>\n",
       "      <td>39260950</td>\n",
       "    </tr>\n",
       "    <tr>\n",
       "      <th>2018-05-16</th>\n",
       "      <td>5.437</td>\n",
       "      <td>5.460</td>\n",
       "      <td>5.3120</td>\n",
       "      <td>5.3290</td>\n",
       "      <td>5.135825</td>\n",
       "      <td>54683384</td>\n",
       "    </tr>\n",
       "    <tr>\n",
       "      <th>2018-05-17</th>\n",
       "      <td>5.338</td>\n",
       "      <td>5.363</td>\n",
       "      <td>5.3070</td>\n",
       "      <td>5.3520</td>\n",
       "      <td>5.157991</td>\n",
       "      <td>43080699</td>\n",
       "    </tr>\n",
       "    <tr>\n",
       "      <th>2018-05-18</th>\n",
       "      <td>5.336</td>\n",
       "      <td>5.343</td>\n",
       "      <td>5.1880</td>\n",
       "      <td>5.2060</td>\n",
       "      <td>5.017283</td>\n",
       "      <td>90424536</td>\n",
       "    </tr>\n",
       "    <tr>\n",
       "      <th>2018-05-21</th>\n",
       "      <td>5.242</td>\n",
       "      <td>5.247</td>\n",
       "      <td>5.1560</td>\n",
       "      <td>5.1690</td>\n",
       "      <td>4.981625</td>\n",
       "      <td>29991460</td>\n",
       "    </tr>\n",
       "    <tr>\n",
       "      <th>2018-05-22</th>\n",
       "      <td>5.194</td>\n",
       "      <td>5.287</td>\n",
       "      <td>5.1660</td>\n",
       "      <td>5.2580</td>\n",
       "      <td>5.067399</td>\n",
       "      <td>35987383</td>\n",
       "    </tr>\n",
       "    <tr>\n",
       "      <th>2018-05-23</th>\n",
       "      <td>5.249</td>\n",
       "      <td>5.249</td>\n",
       "      <td>5.1250</td>\n",
       "      <td>5.1600</td>\n",
       "      <td>4.972951</td>\n",
       "      <td>44558462</td>\n",
       "    </tr>\n",
       "    <tr>\n",
       "      <th>2018-05-24</th>\n",
       "      <td>5.170</td>\n",
       "      <td>5.193</td>\n",
       "      <td>5.0960</td>\n",
       "      <td>5.1260</td>\n",
       "      <td>4.940184</td>\n",
       "      <td>41132419</td>\n",
       "    </tr>\n",
       "    <tr>\n",
       "      <th>2018-05-25</th>\n",
       "      <td>5.150</td>\n",
       "      <td>5.150</td>\n",
       "      <td>4.8965</td>\n",
       "      <td>4.9900</td>\n",
       "      <td>4.809114</td>\n",
       "      <td>91746984</td>\n",
       "    </tr>\n",
       "    <tr>\n",
       "      <th>2018-05-28</th>\n",
       "      <td>5.051</td>\n",
       "      <td>5.069</td>\n",
       "      <td>4.8700</td>\n",
       "      <td>4.8880</td>\n",
       "      <td>4.710812</td>\n",
       "      <td>54201863</td>\n",
       "    </tr>\n",
       "    <tr>\n",
       "      <th>2018-05-29</th>\n",
       "      <td>4.780</td>\n",
       "      <td>4.780</td>\n",
       "      <td>4.5570</td>\n",
       "      <td>4.6225</td>\n",
       "      <td>4.454936</td>\n",
       "      <td>149494992</td>\n",
       "    </tr>\n",
       "    <tr>\n",
       "      <th>2018-05-30</th>\n",
       "      <td>4.678</td>\n",
       "      <td>4.738</td>\n",
       "      <td>4.5740</td>\n",
       "      <td>4.6740</td>\n",
       "      <td>4.504569</td>\n",
       "      <td>106712823</td>\n",
       "    </tr>\n",
       "    <tr>\n",
       "      <th>2018-05-31</th>\n",
       "      <td>4.739</td>\n",
       "      <td>4.809</td>\n",
       "      <td>4.5385</td>\n",
       "      <td>4.6000</td>\n",
       "      <td>4.433251</td>\n",
       "      <td>110356744</td>\n",
       "    </tr>\n",
       "  </tbody>\n",
       "</table>\n",
       "</div>"
      ],
      "text/plain": [
       "             Open   High     Low   Close  Adj Close     Volume\n",
       "Date                                                          \n",
       "2018-05-02  5.359  5.415  5.3570  5.3980   5.202323  320982382\n",
       "2018-05-03  5.390  5.416  5.3150  5.3360   5.142571  260700006\n",
       "2018-05-04  5.328  5.379  5.3010  5.3760   5.181121   34640717\n",
       "2018-05-07  5.387  5.405  5.3560  5.3800   5.184977   94307179\n",
       "2018-05-08  5.378  5.423  5.3250  5.3840   5.188831   68881042\n",
       "2018-05-09  5.390  5.449  5.3850  5.4350   5.237983   64844626\n",
       "2018-05-10  5.456  5.486  5.4120  5.4860   5.287134   37895987\n",
       "2018-05-11  5.490  5.528  5.4740  5.5180   5.317974   45371092\n",
       "2018-05-14  5.514  5.537  5.4760  5.5060   5.306409   32216377\n",
       "2018-05-15  5.491  5.526  5.4320  5.4670   5.268823   39260950\n",
       "2018-05-16  5.437  5.460  5.3120  5.3290   5.135825   54683384\n",
       "2018-05-17  5.338  5.363  5.3070  5.3520   5.157991   43080699\n",
       "2018-05-18  5.336  5.343  5.1880  5.2060   5.017283   90424536\n",
       "2018-05-21  5.242  5.247  5.1560  5.1690   4.981625   29991460\n",
       "2018-05-22  5.194  5.287  5.1660  5.2580   5.067399   35987383\n",
       "2018-05-23  5.249  5.249  5.1250  5.1600   4.972951   44558462\n",
       "2018-05-24  5.170  5.193  5.0960  5.1260   4.940184   41132419\n",
       "2018-05-25  5.150  5.150  4.8965  4.9900   4.809114   91746984\n",
       "2018-05-28  5.051  5.069  4.8700  4.8880   4.710812   54201863\n",
       "2018-05-29  4.780  4.780  4.5570  4.6225   4.454936  149494992\n",
       "2018-05-30  4.678  4.738  4.5740  4.6740   4.504569  106712823\n",
       "2018-05-31  4.739  4.809  4.5385  4.6000   4.433251  110356744"
      ]
     },
     "execution_count": 43,
     "metadata": {},
     "output_type": "execute_result"
    }
   ],
   "source": [
    "san.loc['2018-05']"
   ]
  },
  {
   "cell_type": "markdown",
   "metadata": {
    "ExecuteTime": {
     "end_time": "2019-04-28T18:58:49.890637Z",
     "start_time": "2019-04-28T18:58:49.887535Z"
    }
   },
   "source": [
    "Existe otro método que es mas específico como es **xs**, aunque es más utilizado para los dataframe multi índices. Los cuales dejaremos para mas adelante."
   ]
  },
  {
   "cell_type": "code",
   "execution_count": 46,
   "metadata": {
    "ExecuteTime": {
     "end_time": "2019-04-28T18:58:57.543847Z",
     "start_time": "2019-04-28T18:58:57.531776Z"
    }
   },
   "outputs": [
    {
     "data": {
      "text/html": [
       "<div>\n",
       "<style scoped>\n",
       "    .dataframe tbody tr th:only-of-type {\n",
       "        vertical-align: middle;\n",
       "    }\n",
       "\n",
       "    .dataframe tbody tr th {\n",
       "        vertical-align: top;\n",
       "    }\n",
       "\n",
       "    .dataframe thead th {\n",
       "        text-align: right;\n",
       "    }\n",
       "</style>\n",
       "<table border=\"1\" class=\"dataframe\">\n",
       "  <thead>\n",
       "    <tr style=\"text-align: right;\">\n",
       "      <th></th>\n",
       "      <th>Open</th>\n",
       "      <th>High</th>\n",
       "      <th>Low</th>\n",
       "      <th>Close</th>\n",
       "      <th>Adj Close</th>\n",
       "      <th>Volume</th>\n",
       "    </tr>\n",
       "    <tr>\n",
       "      <th>Date</th>\n",
       "      <th></th>\n",
       "      <th></th>\n",
       "      <th></th>\n",
       "      <th></th>\n",
       "      <th></th>\n",
       "      <th></th>\n",
       "    </tr>\n",
       "  </thead>\n",
       "  <tbody>\n",
       "    <tr>\n",
       "      <th>2018-05-02</th>\n",
       "      <td>6.718</td>\n",
       "      <td>6.782</td>\n",
       "      <td>6.718</td>\n",
       "      <td>6.765</td>\n",
       "      <td>6.443224</td>\n",
       "      <td>13089722</td>\n",
       "    </tr>\n",
       "    <tr>\n",
       "      <th>2018-05-03</th>\n",
       "      <td>6.760</td>\n",
       "      <td>6.760</td>\n",
       "      <td>6.638</td>\n",
       "      <td>6.666</td>\n",
       "      <td>6.348933</td>\n",
       "      <td>21502091</td>\n",
       "    </tr>\n",
       "    <tr>\n",
       "      <th>2018-05-04</th>\n",
       "      <td>6.680</td>\n",
       "      <td>6.752</td>\n",
       "      <td>6.630</td>\n",
       "      <td>6.742</td>\n",
       "      <td>6.421319</td>\n",
       "      <td>15853284</td>\n",
       "    </tr>\n",
       "    <tr>\n",
       "      <th>2018-05-07</th>\n",
       "      <td>6.770</td>\n",
       "      <td>6.812</td>\n",
       "      <td>6.753</td>\n",
       "      <td>6.788</td>\n",
       "      <td>6.465130</td>\n",
       "      <td>13997103</td>\n",
       "    </tr>\n",
       "    <tr>\n",
       "      <th>2018-05-08</th>\n",
       "      <td>6.791</td>\n",
       "      <td>6.817</td>\n",
       "      <td>6.730</td>\n",
       "      <td>6.756</td>\n",
       "      <td>6.434652</td>\n",
       "      <td>14733147</td>\n",
       "    </tr>\n",
       "    <tr>\n",
       "      <th>2018-05-09</th>\n",
       "      <td>6.768</td>\n",
       "      <td>6.810</td>\n",
       "      <td>6.735</td>\n",
       "      <td>6.806</td>\n",
       "      <td>6.482275</td>\n",
       "      <td>13014601</td>\n",
       "    </tr>\n",
       "    <tr>\n",
       "      <th>2018-05-10</th>\n",
       "      <td>6.820</td>\n",
       "      <td>6.852</td>\n",
       "      <td>6.789</td>\n",
       "      <td>6.852</td>\n",
       "      <td>6.526086</td>\n",
       "      <td>11695143</td>\n",
       "    </tr>\n",
       "    <tr>\n",
       "      <th>2018-05-11</th>\n",
       "      <td>6.852</td>\n",
       "      <td>6.885</td>\n",
       "      <td>6.838</td>\n",
       "      <td>6.854</td>\n",
       "      <td>6.527991</td>\n",
       "      <td>10440243</td>\n",
       "    </tr>\n",
       "    <tr>\n",
       "      <th>2018-05-14</th>\n",
       "      <td>6.845</td>\n",
       "      <td>6.886</td>\n",
       "      <td>6.796</td>\n",
       "      <td>6.833</td>\n",
       "      <td>6.507990</td>\n",
       "      <td>11957980</td>\n",
       "    </tr>\n",
       "    <tr>\n",
       "      <th>2018-05-15</th>\n",
       "      <td>6.828</td>\n",
       "      <td>6.855</td>\n",
       "      <td>6.669</td>\n",
       "      <td>6.729</td>\n",
       "      <td>6.408937</td>\n",
       "      <td>23286596</td>\n",
       "    </tr>\n",
       "    <tr>\n",
       "      <th>2018-05-16</th>\n",
       "      <td>6.708</td>\n",
       "      <td>6.743</td>\n",
       "      <td>6.558</td>\n",
       "      <td>6.620</td>\n",
       "      <td>6.305121</td>\n",
       "      <td>26357238</td>\n",
       "    </tr>\n",
       "    <tr>\n",
       "      <th>2018-05-17</th>\n",
       "      <td>6.640</td>\n",
       "      <td>6.708</td>\n",
       "      <td>6.610</td>\n",
       "      <td>6.707</td>\n",
       "      <td>6.387983</td>\n",
       "      <td>21490061</td>\n",
       "    </tr>\n",
       "    <tr>\n",
       "      <th>2018-05-18</th>\n",
       "      <td>6.700</td>\n",
       "      <td>6.706</td>\n",
       "      <td>6.546</td>\n",
       "      <td>6.580</td>\n",
       "      <td>6.267024</td>\n",
       "      <td>32373083</td>\n",
       "    </tr>\n",
       "    <tr>\n",
       "      <th>2018-05-21</th>\n",
       "      <td>6.610</td>\n",
       "      <td>6.623</td>\n",
       "      <td>6.489</td>\n",
       "      <td>6.508</td>\n",
       "      <td>6.198449</td>\n",
       "      <td>25198841</td>\n",
       "    </tr>\n",
       "    <tr>\n",
       "      <th>2018-05-22</th>\n",
       "      <td>6.526</td>\n",
       "      <td>6.649</td>\n",
       "      <td>6.513</td>\n",
       "      <td>6.615</td>\n",
       "      <td>6.300359</td>\n",
       "      <td>16624150</td>\n",
       "    </tr>\n",
       "    <tr>\n",
       "      <th>2018-05-23</th>\n",
       "      <td>6.572</td>\n",
       "      <td>6.572</td>\n",
       "      <td>6.392</td>\n",
       "      <td>6.467</td>\n",
       "      <td>6.159399</td>\n",
       "      <td>35696613</td>\n",
       "    </tr>\n",
       "    <tr>\n",
       "      <th>2018-05-24</th>\n",
       "      <td>6.484</td>\n",
       "      <td>6.524</td>\n",
       "      <td>6.347</td>\n",
       "      <td>6.386</td>\n",
       "      <td>6.082252</td>\n",
       "      <td>20716064</td>\n",
       "    </tr>\n",
       "    <tr>\n",
       "      <th>2018-05-25</th>\n",
       "      <td>6.408</td>\n",
       "      <td>6.416</td>\n",
       "      <td>6.124</td>\n",
       "      <td>6.208</td>\n",
       "      <td>5.912718</td>\n",
       "      <td>38816362</td>\n",
       "    </tr>\n",
       "    <tr>\n",
       "      <th>2018-05-28</th>\n",
       "      <td>6.307</td>\n",
       "      <td>6.338</td>\n",
       "      <td>6.090</td>\n",
       "      <td>6.134</td>\n",
       "      <td>5.842238</td>\n",
       "      <td>25479382</td>\n",
       "    </tr>\n",
       "    <tr>\n",
       "      <th>2018-05-29</th>\n",
       "      <td>6.070</td>\n",
       "      <td>6.087</td>\n",
       "      <td>5.850</td>\n",
       "      <td>5.878</td>\n",
       "      <td>5.598414</td>\n",
       "      <td>49828929</td>\n",
       "    </tr>\n",
       "    <tr>\n",
       "      <th>2018-05-30</th>\n",
       "      <td>5.950</td>\n",
       "      <td>6.022</td>\n",
       "      <td>5.825</td>\n",
       "      <td>5.916</td>\n",
       "      <td>5.634607</td>\n",
       "      <td>38820861</td>\n",
       "    </tr>\n",
       "    <tr>\n",
       "      <th>2018-05-31</th>\n",
       "      <td>5.981</td>\n",
       "      <td>6.066</td>\n",
       "      <td>5.783</td>\n",
       "      <td>5.839</td>\n",
       "      <td>5.561269</td>\n",
       "      <td>54235540</td>\n",
       "    </tr>\n",
       "  </tbody>\n",
       "</table>\n",
       "</div>"
      ],
      "text/plain": [
       "             Open   High    Low  Close  Adj Close    Volume\n",
       "Date                                                       \n",
       "2018-05-02  6.718  6.782  6.718  6.765   6.443224  13089722\n",
       "2018-05-03  6.760  6.760  6.638  6.666   6.348933  21502091\n",
       "2018-05-04  6.680  6.752  6.630  6.742   6.421319  15853284\n",
       "2018-05-07  6.770  6.812  6.753  6.788   6.465130  13997103\n",
       "2018-05-08  6.791  6.817  6.730  6.756   6.434652  14733147\n",
       "2018-05-09  6.768  6.810  6.735  6.806   6.482275  13014601\n",
       "2018-05-10  6.820  6.852  6.789  6.852   6.526086  11695143\n",
       "2018-05-11  6.852  6.885  6.838  6.854   6.527991  10440243\n",
       "2018-05-14  6.845  6.886  6.796  6.833   6.507990  11957980\n",
       "2018-05-15  6.828  6.855  6.669  6.729   6.408937  23286596\n",
       "2018-05-16  6.708  6.743  6.558  6.620   6.305121  26357238\n",
       "2018-05-17  6.640  6.708  6.610  6.707   6.387983  21490061\n",
       "2018-05-18  6.700  6.706  6.546  6.580   6.267024  32373083\n",
       "2018-05-21  6.610  6.623  6.489  6.508   6.198449  25198841\n",
       "2018-05-22  6.526  6.649  6.513  6.615   6.300359  16624150\n",
       "2018-05-23  6.572  6.572  6.392  6.467   6.159399  35696613\n",
       "2018-05-24  6.484  6.524  6.347  6.386   6.082252  20716064\n",
       "2018-05-25  6.408  6.416  6.124  6.208   5.912718  38816362\n",
       "2018-05-28  6.307  6.338  6.090  6.134   5.842238  25479382\n",
       "2018-05-29  6.070  6.087  5.850  5.878   5.598414  49828929\n",
       "2018-05-30  5.950  6.022  5.825  5.916   5.634607  38820861\n",
       "2018-05-31  5.981  6.066  5.783  5.839   5.561269  54235540"
      ]
     },
     "execution_count": 46,
     "metadata": {},
     "output_type": "execute_result"
    }
   ],
   "source": [
    "bbva.xs('2018-05', axis=0)"
   ]
  },
  {
   "cell_type": "markdown",
   "metadata": {},
   "source": [
    "Pandas tambien permiter hacer una extracción (slice) usando saltos, es decir tomando los valores de cada N filas. Por ejemplo podemos tomar cada 15 filas. En este caso despues usamos **tail()** para limitar lo que se muestra a solo los 8 últimos seleccionados por facilitar la visualización."
   ]
  },
  {
   "cell_type": "code",
   "execution_count": 50,
   "metadata": {
    "ExecuteTime": {
     "end_time": "2019-04-28T19:03:40.944804Z",
     "start_time": "2019-04-28T19:03:40.934933Z"
    }
   },
   "outputs": [
    {
     "data": {
      "text/html": [
       "<div>\n",
       "<style scoped>\n",
       "    .dataframe tbody tr th:only-of-type {\n",
       "        vertical-align: middle;\n",
       "    }\n",
       "\n",
       "    .dataframe tbody tr th {\n",
       "        vertical-align: top;\n",
       "    }\n",
       "\n",
       "    .dataframe thead th {\n",
       "        text-align: right;\n",
       "    }\n",
       "</style>\n",
       "<table border=\"1\" class=\"dataframe\">\n",
       "  <thead>\n",
       "    <tr style=\"text-align: right;\">\n",
       "      <th></th>\n",
       "      <th>Open</th>\n",
       "      <th>High</th>\n",
       "      <th>Low</th>\n",
       "      <th>Close</th>\n",
       "      <th>Adj Close</th>\n",
       "      <th>Volume</th>\n",
       "    </tr>\n",
       "    <tr>\n",
       "      <th>Date</th>\n",
       "      <th></th>\n",
       "      <th></th>\n",
       "      <th></th>\n",
       "      <th></th>\n",
       "      <th></th>\n",
       "      <th></th>\n",
       "    </tr>\n",
       "  </thead>\n",
       "  <tbody>\n",
       "    <tr>\n",
       "      <th>2018-07-27</th>\n",
       "      <td>4.7795</td>\n",
       "      <td>4.8520</td>\n",
       "      <td>4.7650</td>\n",
       "      <td>4.8180</td>\n",
       "      <td>4.643349</td>\n",
       "      <td>51335277</td>\n",
       "    </tr>\n",
       "    <tr>\n",
       "      <th>2018-08-17</th>\n",
       "      <td>4.3955</td>\n",
       "      <td>4.3955</td>\n",
       "      <td>4.3110</td>\n",
       "      <td>4.3395</td>\n",
       "      <td>4.239388</td>\n",
       "      <td>42357176</td>\n",
       "    </tr>\n",
       "    <tr>\n",
       "      <th>2018-09-07</th>\n",
       "      <td>4.2425</td>\n",
       "      <td>4.2550</td>\n",
       "      <td>4.1400</td>\n",
       "      <td>4.1780</td>\n",
       "      <td>4.081614</td>\n",
       "      <td>53997610</td>\n",
       "    </tr>\n",
       "    <tr>\n",
       "      <th>2018-09-28</th>\n",
       "      <td>4.4335</td>\n",
       "      <td>4.4345</td>\n",
       "      <td>4.2520</td>\n",
       "      <td>4.3355</td>\n",
       "      <td>4.235480</td>\n",
       "      <td>69807695</td>\n",
       "    </tr>\n",
       "    <tr>\n",
       "      <th>2018-10-19</th>\n",
       "      <td>4.1100</td>\n",
       "      <td>4.1685</td>\n",
       "      <td>4.0270</td>\n",
       "      <td>4.1250</td>\n",
       "      <td>4.063220</td>\n",
       "      <td>92057905</td>\n",
       "    </tr>\n",
       "    <tr>\n",
       "      <th>2018-11-09</th>\n",
       "      <td>4.2545</td>\n",
       "      <td>4.2690</td>\n",
       "      <td>4.1955</td>\n",
       "      <td>4.2390</td>\n",
       "      <td>4.175512</td>\n",
       "      <td>35140481</td>\n",
       "    </tr>\n",
       "    <tr>\n",
       "      <th>2018-11-30</th>\n",
       "      <td>4.2270</td>\n",
       "      <td>4.2300</td>\n",
       "      <td>4.1515</td>\n",
       "      <td>4.1850</td>\n",
       "      <td>4.122321</td>\n",
       "      <td>38399674</td>\n",
       "    </tr>\n",
       "    <tr>\n",
       "      <th>2018-12-21</th>\n",
       "      <td>3.9600</td>\n",
       "      <td>3.9955</td>\n",
       "      <td>3.8815</td>\n",
       "      <td>3.9305</td>\n",
       "      <td>3.871633</td>\n",
       "      <td>212350900</td>\n",
       "    </tr>\n",
       "  </tbody>\n",
       "</table>\n",
       "</div>"
      ],
      "text/plain": [
       "              Open    High     Low   Close  Adj Close     Volume\n",
       "Date                                                            \n",
       "2018-07-27  4.7795  4.8520  4.7650  4.8180   4.643349   51335277\n",
       "2018-08-17  4.3955  4.3955  4.3110  4.3395   4.239388   42357176\n",
       "2018-09-07  4.2425  4.2550  4.1400  4.1780   4.081614   53997610\n",
       "2018-09-28  4.4335  4.4345  4.2520  4.3355   4.235480   69807695\n",
       "2018-10-19  4.1100  4.1685  4.0270  4.1250   4.063220   92057905\n",
       "2018-11-09  4.2545  4.2690  4.1955  4.2390   4.175512   35140481\n",
       "2018-11-30  4.2270  4.2300  4.1515  4.1850   4.122321   38399674\n",
       "2018-12-21  3.9600  3.9955  3.8815  3.9305   3.871633  212350900"
      ]
     },
     "execution_count": 50,
     "metadata": {},
     "output_type": "execute_result"
    }
   ],
   "source": [
    "san[::15].tail(8)"
   ]
  },
  {
   "cell_type": "markdown",
   "metadata": {},
   "source": [
    "Esto puede ser utilizado incluso para invertir el orden del índice, usando un paso negativo."
   ]
  },
  {
   "cell_type": "code",
   "execution_count": 53,
   "metadata": {
    "ExecuteTime": {
     "end_time": "2019-04-28T19:05:08.530888Z",
     "start_time": "2019-04-28T19:05:08.516674Z"
    }
   },
   "outputs": [
    {
     "data": {
      "text/html": [
       "<div>\n",
       "<style scoped>\n",
       "    .dataframe tbody tr th:only-of-type {\n",
       "        vertical-align: middle;\n",
       "    }\n",
       "\n",
       "    .dataframe tbody tr th {\n",
       "        vertical-align: top;\n",
       "    }\n",
       "\n",
       "    .dataframe thead th {\n",
       "        text-align: right;\n",
       "    }\n",
       "</style>\n",
       "<table border=\"1\" class=\"dataframe\">\n",
       "  <thead>\n",
       "    <tr style=\"text-align: right;\">\n",
       "      <th></th>\n",
       "      <th>Open</th>\n",
       "      <th>High</th>\n",
       "      <th>Low</th>\n",
       "      <th>Close</th>\n",
       "      <th>Adj Close</th>\n",
       "      <th>Volume</th>\n",
       "    </tr>\n",
       "    <tr>\n",
       "      <th>Date</th>\n",
       "      <th></th>\n",
       "      <th></th>\n",
       "      <th></th>\n",
       "      <th></th>\n",
       "      <th></th>\n",
       "      <th></th>\n",
       "    </tr>\n",
       "  </thead>\n",
       "  <tbody>\n",
       "    <tr>\n",
       "      <th>2018-12-31</th>\n",
       "      <td>4.6350</td>\n",
       "      <td>4.6635</td>\n",
       "      <td>4.6200</td>\n",
       "      <td>4.6355</td>\n",
       "      <td>4.500526</td>\n",
       "      <td>6885185</td>\n",
       "    </tr>\n",
       "    <tr>\n",
       "      <th>2018-12-28</th>\n",
       "      <td>4.5585</td>\n",
       "      <td>4.6480</td>\n",
       "      <td>4.5500</td>\n",
       "      <td>4.6410</td>\n",
       "      <td>4.505866</td>\n",
       "      <td>20924025</td>\n",
       "    </tr>\n",
       "    <tr>\n",
       "      <th>2018-12-27</th>\n",
       "      <td>4.6000</td>\n",
       "      <td>4.6380</td>\n",
       "      <td>4.4765</td>\n",
       "      <td>4.5450</td>\n",
       "      <td>4.412662</td>\n",
       "      <td>32726196</td>\n",
       "    </tr>\n",
       "    <tr>\n",
       "      <th>2018-12-24</th>\n",
       "      <td>4.5745</td>\n",
       "      <td>4.5990</td>\n",
       "      <td>4.5425</td>\n",
       "      <td>4.5580</td>\n",
       "      <td>4.425283</td>\n",
       "      <td>5652399</td>\n",
       "    </tr>\n",
       "    <tr>\n",
       "      <th>2018-12-21</th>\n",
       "      <td>4.6330</td>\n",
       "      <td>4.6600</td>\n",
       "      <td>4.5340</td>\n",
       "      <td>4.6185</td>\n",
       "      <td>4.484022</td>\n",
       "      <td>96489872</td>\n",
       "    </tr>\n",
       "    <tr>\n",
       "      <th>2018-12-20</th>\n",
       "      <td>4.6500</td>\n",
       "      <td>4.7150</td>\n",
       "      <td>4.6230</td>\n",
       "      <td>4.6540</td>\n",
       "      <td>4.518487</td>\n",
       "      <td>27462924</td>\n",
       "    </tr>\n",
       "  </tbody>\n",
       "</table>\n",
       "</div>"
      ],
      "text/plain": [
       "              Open    High     Low   Close  Adj Close    Volume\n",
       "Date                                                           \n",
       "2018-12-31  4.6350  4.6635  4.6200  4.6355   4.500526   6885185\n",
       "2018-12-28  4.5585  4.6480  4.5500  4.6410   4.505866  20924025\n",
       "2018-12-27  4.6000  4.6380  4.4765  4.5450   4.412662  32726196\n",
       "2018-12-24  4.5745  4.5990  4.5425  4.5580   4.425283   5652399\n",
       "2018-12-21  4.6330  4.6600  4.5340  4.6185   4.484022  96489872\n",
       "2018-12-20  4.6500  4.7150  4.6230  4.6540   4.518487  27462924"
      ]
     },
     "execution_count": 53,
     "metadata": {},
     "output_type": "execute_result"
    }
   ],
   "source": [
    "bbva[::-1].head(6)"
   ]
  },
  {
   "cell_type": "markdown",
   "metadata": {},
   "source": [
    "## Indexación booleana"
   ]
  },
  {
   "cell_type": "markdown",
   "metadata": {},
   "source": [
    "Otra forma de extraer datos es usando una condición y solo nos devolverá la filas que cumplan dicha condición. Así por ejemplo podemos extraer las filas en las que el cierre de Santander supero los 13 euros, comrobando que solo fueron dos."
   ]
  },
  {
   "cell_type": "code",
   "execution_count": 61,
   "metadata": {
    "ExecuteTime": {
     "end_time": "2019-04-28T19:29:25.680804Z",
     "start_time": "2019-04-28T19:29:25.671131Z"
    }
   },
   "outputs": [
    {
     "data": {
      "text/html": [
       "<div>\n",
       "<style scoped>\n",
       "    .dataframe tbody tr th:only-of-type {\n",
       "        vertical-align: middle;\n",
       "    }\n",
       "\n",
       "    .dataframe tbody tr th {\n",
       "        vertical-align: top;\n",
       "    }\n",
       "\n",
       "    .dataframe thead th {\n",
       "        text-align: right;\n",
       "    }\n",
       "</style>\n",
       "<table border=\"1\" class=\"dataframe\">\n",
       "  <thead>\n",
       "    <tr style=\"text-align: right;\">\n",
       "      <th></th>\n",
       "      <th>Open</th>\n",
       "      <th>High</th>\n",
       "      <th>Low</th>\n",
       "      <th>Close</th>\n",
       "      <th>Adj Close</th>\n",
       "      <th>Volume</th>\n",
       "    </tr>\n",
       "    <tr>\n",
       "      <th>Date</th>\n",
       "      <th></th>\n",
       "      <th></th>\n",
       "      <th></th>\n",
       "      <th></th>\n",
       "      <th></th>\n",
       "      <th></th>\n",
       "    </tr>\n",
       "  </thead>\n",
       "  <tbody>\n",
       "    <tr>\n",
       "      <th>2008-01-02</th>\n",
       "      <td>13.2489</td>\n",
       "      <td>13.3302</td>\n",
       "      <td>13.0953</td>\n",
       "      <td>13.1766</td>\n",
       "      <td>5.868722</td>\n",
       "      <td>103998100</td>\n",
       "    </tr>\n",
       "    <tr>\n",
       "      <th>2008-01-03</th>\n",
       "      <td>13.1405</td>\n",
       "      <td>13.2037</td>\n",
       "      <td>12.9689</td>\n",
       "      <td>13.0502</td>\n",
       "      <td>5.812426</td>\n",
       "      <td>113222703</td>\n",
       "    </tr>\n",
       "  </tbody>\n",
       "</table>\n",
       "</div>"
      ],
      "text/plain": [
       "               Open     High      Low    Close  Adj Close     Volume\n",
       "Date                                                                \n",
       "2008-01-02  13.2489  13.3302  13.0953  13.1766   5.868722  103998100\n",
       "2008-01-03  13.1405  13.2037  12.9689  13.0502   5.812426  113222703"
      ]
     },
     "execution_count": 61,
     "metadata": {},
     "output_type": "execute_result"
    }
   ],
   "source": [
    "san[san['Close']>13]"
   ]
  },
  {
   "cell_type": "markdown",
   "metadata": {},
   "source": [
    "La condición puede ser tan compleja como queramos, pudiendo usar los operadores lógicos para encadenar distintas condicionales."
   ]
  },
  {
   "cell_type": "code",
   "execution_count": 73,
   "metadata": {
    "ExecuteTime": {
     "end_time": "2019-04-28T19:33:10.877935Z",
     "start_time": "2019-04-28T19:33:10.867758Z"
    }
   },
   "outputs": [
    {
     "data": {
      "text/html": [
       "<div>\n",
       "<style scoped>\n",
       "    .dataframe tbody tr th:only-of-type {\n",
       "        vertical-align: middle;\n",
       "    }\n",
       "\n",
       "    .dataframe tbody tr th {\n",
       "        vertical-align: top;\n",
       "    }\n",
       "\n",
       "    .dataframe thead th {\n",
       "        text-align: right;\n",
       "    }\n",
       "</style>\n",
       "<table border=\"1\" class=\"dataframe\">\n",
       "  <thead>\n",
       "    <tr style=\"text-align: right;\">\n",
       "      <th></th>\n",
       "      <th>Open</th>\n",
       "      <th>High</th>\n",
       "      <th>Low</th>\n",
       "      <th>Close</th>\n",
       "      <th>Adj Close</th>\n",
       "      <th>Volume</th>\n",
       "    </tr>\n",
       "    <tr>\n",
       "      <th>Date</th>\n",
       "      <th></th>\n",
       "      <th></th>\n",
       "      <th></th>\n",
       "      <th></th>\n",
       "      <th></th>\n",
       "      <th></th>\n",
       "    </tr>\n",
       "  </thead>\n",
       "  <tbody>\n",
       "    <tr>\n",
       "      <th>2008-01-04</th>\n",
       "      <td>15.7946</td>\n",
       "      <td>15.7946</td>\n",
       "      <td>15.3239</td>\n",
       "      <td>15.4680</td>\n",
       "      <td>8.089549</td>\n",
       "      <td>138136794</td>\n",
       "    </tr>\n",
       "    <tr>\n",
       "      <th>2008-01-09</th>\n",
       "      <td>15.2374</td>\n",
       "      <td>15.2374</td>\n",
       "      <td>14.9972</td>\n",
       "      <td>15.0452</td>\n",
       "      <td>7.868430</td>\n",
       "      <td>107909320</td>\n",
       "    </tr>\n",
       "  </tbody>\n",
       "</table>\n",
       "</div>"
      ],
      "text/plain": [
       "               Open     High      Low    Close  Adj Close     Volume\n",
       "Date                                                                \n",
       "2008-01-04  15.7946  15.7946  15.3239  15.4680   8.089549  138136794\n",
       "2008-01-09  15.2374  15.2374  14.9972  15.0452   7.868430  107909320"
      ]
     },
     "execution_count": 73,
     "metadata": {},
     "output_type": "execute_result"
    }
   ],
   "source": [
    "bbva[(bbva.Open>15) & (bbva.Volume>10**8)]"
   ]
  },
  {
   "cell_type": "markdown",
   "metadata": {},
   "source": [
    "Vemos además como en el ejemplo anterior hemos llamado las columnas **Open** y **Volume** sin usar los corchetes ni las comillas. Y es que si el nombre de la columna es una sola palabra (no contiene espacios) podemos llamarla usando solo un punto, como si de una propiedad del objeto dataframe se tratara."
   ]
  },
  {
   "cell_type": "markdown",
   "metadata": {},
   "source": [
    "Esto mismo tambien es posible hacerlo usando el método **query()**. Obtendremos exactamente el mismo resultado, solo que usando una expresión contenida en una cadena de texto para realizar la busqueda."
   ]
  },
  {
   "cell_type": "code",
   "execution_count": 76,
   "metadata": {
    "ExecuteTime": {
     "end_time": "2019-04-28T19:41:28.421090Z",
     "start_time": "2019-04-28T19:41:28.410035Z"
    }
   },
   "outputs": [
    {
     "data": {
      "text/html": [
       "<div>\n",
       "<style scoped>\n",
       "    .dataframe tbody tr th:only-of-type {\n",
       "        vertical-align: middle;\n",
       "    }\n",
       "\n",
       "    .dataframe tbody tr th {\n",
       "        vertical-align: top;\n",
       "    }\n",
       "\n",
       "    .dataframe thead th {\n",
       "        text-align: right;\n",
       "    }\n",
       "</style>\n",
       "<table border=\"1\" class=\"dataframe\">\n",
       "  <thead>\n",
       "    <tr style=\"text-align: right;\">\n",
       "      <th></th>\n",
       "      <th>Open</th>\n",
       "      <th>High</th>\n",
       "      <th>Low</th>\n",
       "      <th>Close</th>\n",
       "      <th>Adj Close</th>\n",
       "      <th>Volume</th>\n",
       "    </tr>\n",
       "    <tr>\n",
       "      <th>Date</th>\n",
       "      <th></th>\n",
       "      <th></th>\n",
       "      <th></th>\n",
       "      <th></th>\n",
       "      <th></th>\n",
       "      <th></th>\n",
       "    </tr>\n",
       "  </thead>\n",
       "  <tbody>\n",
       "    <tr>\n",
       "      <th>2008-01-04</th>\n",
       "      <td>15.7946</td>\n",
       "      <td>15.7946</td>\n",
       "      <td>15.3239</td>\n",
       "      <td>15.4680</td>\n",
       "      <td>8.089549</td>\n",
       "      <td>138136794</td>\n",
       "    </tr>\n",
       "    <tr>\n",
       "      <th>2008-01-09</th>\n",
       "      <td>15.2374</td>\n",
       "      <td>15.2374</td>\n",
       "      <td>14.9972</td>\n",
       "      <td>15.0452</td>\n",
       "      <td>7.868430</td>\n",
       "      <td>107909320</td>\n",
       "    </tr>\n",
       "  </tbody>\n",
       "</table>\n",
       "</div>"
      ],
      "text/plain": [
       "               Open     High      Low    Close  Adj Close     Volume\n",
       "Date                                                                \n",
       "2008-01-04  15.7946  15.7946  15.3239  15.4680   8.089549  138136794\n",
       "2008-01-09  15.2374  15.2374  14.9972  15.0452   7.868430  107909320"
      ]
     },
     "execution_count": 76,
     "metadata": {},
     "output_type": "execute_result"
    }
   ],
   "source": [
    "bbva.query('Open>15 and Volume>10**8')"
   ]
  },
  {
   "cell_type": "markdown",
   "metadata": {},
   "source": [
    "Dado que los dataframes **san** y **bbva** tienen el mismo tamaño (de hecho el mismo índice por cotizar en el mismo mercado), podemos usar una condición aplicada Santander para extraer valores del BBVA. Así por ejemplo podemos ver como cotizaba BBVA cuando Santander superó los 13 euros en su precio de cierre."
   ]
  },
  {
   "cell_type": "code",
   "execution_count": 82,
   "metadata": {
    "ExecuteTime": {
     "end_time": "2019-04-29T06:01:09.601740Z",
     "start_time": "2019-04-29T06:01:09.592418Z"
    }
   },
   "outputs": [
    {
     "data": {
      "text/html": [
       "<div>\n",
       "<style scoped>\n",
       "    .dataframe tbody tr th:only-of-type {\n",
       "        vertical-align: middle;\n",
       "    }\n",
       "\n",
       "    .dataframe tbody tr th {\n",
       "        vertical-align: top;\n",
       "    }\n",
       "\n",
       "    .dataframe thead th {\n",
       "        text-align: right;\n",
       "    }\n",
       "</style>\n",
       "<table border=\"1\" class=\"dataframe\">\n",
       "  <thead>\n",
       "    <tr style=\"text-align: right;\">\n",
       "      <th></th>\n",
       "      <th>Open</th>\n",
       "      <th>High</th>\n",
       "      <th>Low</th>\n",
       "      <th>Close</th>\n",
       "      <th>Adj Close</th>\n",
       "      <th>Volume</th>\n",
       "    </tr>\n",
       "    <tr>\n",
       "      <th>Date</th>\n",
       "      <th></th>\n",
       "      <th></th>\n",
       "      <th></th>\n",
       "      <th></th>\n",
       "      <th></th>\n",
       "      <th></th>\n",
       "    </tr>\n",
       "  </thead>\n",
       "  <tbody>\n",
       "    <tr>\n",
       "      <th>2008-01-02</th>\n",
       "      <td>16.1021</td>\n",
       "      <td>16.1597</td>\n",
       "      <td>15.8523</td>\n",
       "      <td>15.9291</td>\n",
       "      <td>8.330698</td>\n",
       "      <td>98910228</td>\n",
       "    </tr>\n",
       "    <tr>\n",
       "      <th>2008-01-03</th>\n",
       "      <td>15.9291</td>\n",
       "      <td>15.9291</td>\n",
       "      <td>15.6986</td>\n",
       "      <td>15.7946</td>\n",
       "      <td>8.260358</td>\n",
       "      <td>90699092</td>\n",
       "    </tr>\n",
       "  </tbody>\n",
       "</table>\n",
       "</div>"
      ],
      "text/plain": [
       "               Open     High      Low    Close  Adj Close    Volume\n",
       "Date                                                               \n",
       "2008-01-02  16.1021  16.1597  15.8523  15.9291   8.330698  98910228\n",
       "2008-01-03  15.9291  15.9291  15.6986  15.7946   8.260358  90699092"
      ]
     },
     "execution_count": 82,
     "metadata": {},
     "output_type": "execute_result"
    }
   ],
   "source": [
    "bbva[san.Close>13]"
   ]
  },
  {
   "cell_type": "markdown",
   "metadata": {},
   "source": [
    "\n",
    "Si quieres ampliar información la propia documentación oficial de Pandas explica muy detalladamente estos métodos de extracción y algún otro."
   ]
  },
  {
   "cell_type": "code",
   "execution_count": null,
   "metadata": {},
   "outputs": [],
   "source": []
  }
 ],
 "metadata": {
  "anaconda-cloud": {},
  "hide_input": false,
  "kernelspec": {
   "display_name": "Python [conda env:mypython3]",
   "language": "python",
   "name": "conda-env-mypython3-py"
  },
  "language_info": {
   "codemirror_mode": {
    "name": "ipython",
    "version": 3
   },
   "file_extension": ".py",
   "mimetype": "text/x-python",
   "name": "python",
   "nbconvert_exporter": "python",
   "pygments_lexer": "ipython3",
   "version": "3.6.3"
  },
  "toc": {
   "base_numbering": 1,
   "nav_menu": {},
   "number_sections": false,
   "sideBar": true,
   "skip_h1_title": false,
   "title_cell": "Tabla de Contenido",
   "title_sidebar": "Contenidos",
   "toc_cell": false,
   "toc_position": {},
   "toc_section_display": true,
   "toc_window_display": false
  },
  "varInspector": {
   "cols": {
    "lenName": 16,
    "lenType": 16,
    "lenVar": 40
   },
   "kernels_config": {
    "python": {
     "delete_cmd_postfix": "",
     "delete_cmd_prefix": "del ",
     "library": "var_list.py",
     "varRefreshCmd": "print(var_dic_list())"
    },
    "r": {
     "delete_cmd_postfix": ") ",
     "delete_cmd_prefix": "rm(",
     "library": "var_list.r",
     "varRefreshCmd": "cat(var_dic_list()) "
    }
   },
   "types_to_exclude": [
    "module",
    "function",
    "builtin_function_or_method",
    "instance",
    "_Feature"
   ],
   "window_display": false
  }
 },
 "nbformat": 4,
 "nbformat_minor": 2
}
